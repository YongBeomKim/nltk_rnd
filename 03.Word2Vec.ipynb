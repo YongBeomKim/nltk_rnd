{
 "cells": [
  {
   "cell_type": "markdown",
   "metadata": {},
   "source": [
    "<br></br>\n",
    "# **Project4 | word2vec**\n",
    "<br></br>\n",
    "## **1 데이터 전처리**"
   ]
  },
  {
   "cell_type": "code",
   "execution_count": 1,
   "metadata": {},
   "outputs": [
    {
     "data": {
      "text/plain": [
       "'박두만\\n서태윤\\n조용구\\n권귀옥\\n구희봉\\n신동철\\n백광호20대 초반. 정박아\\n조병순30대 후반. 변태성향\\n박해일20대 초반. 공장 노동자. ‘유력한 용의자’.\\n선본 남자, 동네 양아치들... 등등\\n30대 초반의 전직 간호조무사, 마을 ‘야매주사’ 여인.\\n안송여중 1학년 학생\\n소현의 단짝 친구\\n박보희, 이향숙, 독고현순, 박명자, 안미선.\\n화면 가득 한 남자 아이의 얼굴이 보여진다.\\n쏟아지는 햇살 아래, 맑은 눈빛의 아이는 카메라 정면을 응시하고 있다.\\n아이는 코스모스 위에 앉아있는 잠자리를 향해 살며시 손을 뻗는다.\\n휙~ 잠자리가 날아가 버리면 ... 끝없이 펼쳐진 가을 논과 푸른 하늘이 보인다.\\n어렴풋이 들려오는 기계소리에 아이가 고개를 돌리면, 저 멀리 경운기 한 대가 오는 것이 보인다. 점점 커지는 소리와 함께, 경운기를 운전하는 노인네와 뒷칸에 \\n올라 탄 한 남자의 모습이 보인다.\\n스포츠 머리에 건달같은 인상을 풍기는 30대 남자 ... 형사 박두만이다.\\n경운기를 세운 노인은 소리를'"
      ]
     },
     "execution_count": 1,
     "metadata": {},
     "output_type": "execute_result"
    }
   ],
   "source": [
    "# 살인의 추억 텍스트 불러오기\n",
    "filename = './data/movie_memories_of_murder_2003.txt'\n",
    "with open(filename, 'r') as f:\n",
    "    texts = f.read()\n",
    "texts[:500]"
   ]
  },
  {
   "cell_type": "code",
   "execution_count": 2,
   "metadata": {},
   "outputs": [
    {
     "data": {
      "text/plain": [
       "'박두만\\n 서태윤\\n 조용구\\n 권귀옥\\n 구희봉\\n 신동철\\n 백광호 초반 정박\\n 조병순대 후반 변태성향\\n 박해일 초반 공장 노동자 유력 용의자\\n 선본 남자 동네 양아치 등등\\n 초반 전직 간호조무사 마을 야매주사 여인\\n 안송여중 학년 학생\\n 소현 단짝 친구\\n 박보희 이향숙 독고현순 박명자 안미선\\n 화면 가득 남자 아이 얼굴\\n 햇살 아래 맑은 눈빛 아이 카메라 정면 응시\\n 아이 코스모스 잠자리\\n 잠자리 가을 푸른 하늘\\n 기계소리 아이 고개 멀리 경운기 대가 점점 소리 경운기 운전 노인 뒷칸\\n 남자 모습\\n 스포츠 머리 건달 인상 풍기 남자 형사 박두만\\n 경운기 세운 노인 소리 아이 아이 아랑곳 노인 박두 안내 농수로 배수관\\n 화면 등장 여자 시체\\n 배수관 어두운 구멍 나체 여자 시신\\n 미니 후레쉬 주머니 여자 얼굴 박두만\\n 여자 순간 안광이 번뜩\\n 위로 파리 개미 토사물 거기 핏자국 새소리 햇살아래 하늘거리 코스모스\\n 무덤덤 여자 박보희 시체 뭔가 생경 느낌\\n 언제 주위 동네 아이\\n 녀석 여자 '"
      ]
     },
     "execution_count": 2,
     "metadata": {},
     "output_type": "execute_result"
    }
   ],
   "source": [
    "from txtutil import txtnoun\n",
    "skips = {'두만':'박두만', '태윤':'서태윤', '용구':'조용구', '귀옥':'권귀옥', \n",
    "         '희봉':'구희봉', '동철':'신동철', '광호':'백광호', '병순':'조병순', \n",
    "         '해일':'박해일', '광호의':'백광호', '백광호의':'백광호'}\n",
    "texts  = txtnoun(filename, skip=skips, tags=['Noun'])\n",
    "texts[:500]"
   ]
  },
  {
   "cell_type": "code",
   "execution_count": 3,
   "metadata": {},
   "outputs": [
    {
     "name": "stdout",
     "output_type": "stream",
     "text": [
      "전처리 완료된 대본파일 저장 : ./data/mom_script.txt\n"
     ]
    }
   ],
   "source": [
    "# 명사 Token 작업된 자료를 ssResport.txt 로 저장 \n",
    "script_file = './data/mom_script.txt'\n",
    "with open(script_file, 'w', encoding='utf-8') as file:\n",
    "    file.write(texts)\n",
    "    \n",
    "print(\"전처리 완료된 대본파일 저장 : {}\".format(script_file))"
   ]
  },
  {
   "cell_type": "code",
   "execution_count": 4,
   "metadata": {},
   "outputs": [],
   "source": [
    "# ! cat ./data/ssResport.txt | head -n 10"
   ]
  },
  {
   "cell_type": "markdown",
   "metadata": {},
   "source": [
    "<br></br>\n",
    "## **2 Word 2 vec 객체 만들기**\n",
    "gensim"
   ]
  },
  {
   "cell_type": "code",
   "execution_count": 5,
   "metadata": {},
   "outputs": [],
   "source": [
    "# ! pip3 install gensim"
   ]
  },
  {
   "cell_type": "code",
   "execution_count": 6,
   "metadata": {},
   "outputs": [
    {
     "name": "stdout",
     "output_type": "stream",
     "text": [
      "Word 2 Vec 모델 파일 ./data/mom_script.model 저장완료\n",
      "CPU times: user 3.02 s, sys: 162 ms, total: 3.18 s\n",
      "Wall time: 3.09 s\n"
     ]
    }
   ],
   "source": [
    "%%time\n",
    "from gensim.models import word2vec\n",
    "data  = word2vec.LineSentence(script_file)\n",
    "model = word2vec.Word2Vec(data, size=30, window=2, min_count=10, hs=1,\n",
    "                          workers=4, iter=100, sg=1)\n",
    "\n",
    "model_file = \"./data/mom_script.model\"\n",
    "model.save(model_file)\n",
    "print(\"Word 2 Vec 모델 파일 {} 저장완료\".format(model_file))"
   ]
  },
  {
   "cell_type": "markdown",
   "metadata": {},
   "source": [
    "<br></br>\n",
    "## **3 저장된 모델 불러오기 및 확인**\n",
    "gensim"
   ]
  },
  {
   "cell_type": "code",
   "execution_count": 7,
   "metadata": {},
   "outputs": [
    {
     "name": "stdin",
     "output_type": "stream",
     "text": [
      "Once deleted, variables cannot be recovered. Proceed (y/[n])?  y\n"
     ]
    }
   ],
   "source": [
    "%reset"
   ]
  },
  {
   "cell_type": "code",
   "execution_count": 8,
   "metadata": {},
   "outputs": [
    {
     "name": "stdout",
     "output_type": "stream",
     "text": [
      "Interactive namespace is empty.\n"
     ]
    }
   ],
   "source": [
    "%who"
   ]
  },
  {
   "cell_type": "code",
   "execution_count": 10,
   "metadata": {},
   "outputs": [
    {
     "data": {
      "text/plain": [
       "149"
      ]
     },
     "execution_count": 10,
     "metadata": {},
     "output_type": "execute_result"
    }
   ],
   "source": [
    "model_file = \"./data/mom_script.model\"\n",
    "\n",
    "from gensim.models import word2vec\n",
    "model = word2vec.Word2Vec.load(model_file)\n",
    "len(model.wv.vocab.keys())"
   ]
  },
  {
   "cell_type": "code",
   "execution_count": 11,
   "metadata": {},
   "outputs": [
    {
     "data": {
      "text/plain": [
       "['서태윤',\n",
       " '얼굴',\n",
       " '박두만',\n",
       " '여자',\n",
       " '백광호',\n",
       " '조용구',\n",
       " '박해일',\n",
       " '반장',\n",
       " '계속',\n",
       " '순간',\n",
       " '모습',\n",
       " '소현',\n",
       " '하나',\n",
       " '소리',\n",
       " '시작',\n",
       " '범인',\n",
       " '남자',\n",
       " '사람',\n",
       " '표정',\n",
       " '형사',\n",
       " '다시',\n",
       " '뭔가',\n",
       " '권귀옥',\n",
       " '지금',\n",
       " '고개',\n",
       " '잠시',\n",
       " '아이',\n",
       " '보고',\n",
       " '눈빛',\n",
       " '설영',\n",
       " '여기',\n",
       " '얘기',\n",
       " '동네',\n",
       " '화면',\n",
       " '시체',\n",
       " '시선',\n",
       " '사진',\n",
       " '한번',\n",
       " '서류',\n",
       " '위로',\n",
       " '책상',\n",
       " '새끼',\n",
       " '그림자',\n",
       " '멀리',\n",
       " '점점',\n",
       " '머리',\n",
       " '갑자기',\n",
       " '이향숙',\n",
       " '문득',\n",
       " '사건',\n",
       " '발자국',\n",
       " '자기',\n",
       " '가운데',\n",
       " '당신',\n",
       " '아래',\n",
       " '박두',\n",
       " '괴남자',\n",
       " '저기',\n",
       " '스타킹',\n",
       " '그냥',\n",
       " '목소리',\n",
       " '불빛',\n",
       " '사무실',\n",
       " '진짜',\n",
       " '모두',\n",
       " '운동화',\n",
       " '우리',\n",
       " '사이',\n",
       " '용의자',\n",
       " '현장',\n",
       " '조그만',\n",
       " '다른',\n",
       " '생각',\n",
       " '전경',\n",
       " '기차',\n",
       " '마주',\n",
       " '취조실',\n",
       " '바로',\n",
       " '발견',\n",
       " '임마',\n",
       " '잠깐',\n",
       " '박명자',\n",
       " '거기',\n",
       " '음악',\n",
       " '부분',\n",
       " '시점',\n",
       " '간다',\n",
       " '그거',\n",
       " '끄덕',\n",
       " '자리',\n",
       " '버럭',\n",
       " '우산',\n",
       " '변소',\n",
       " '어디',\n",
       " '정말',\n",
       " '잔뜩',\n",
       " '다리',\n",
       " '그대로',\n",
       " '똑바로',\n",
       " '서서히',\n",
       " '가득',\n",
       " '인상',\n",
       " '후레쉬',\n",
       " '너머',\n",
       " '순경',\n",
       " '저녁',\n",
       " '경찰',\n",
       " '훈련',\n",
       " '언덕',\n",
       " '구희봉',\n",
       " '카메라',\n",
       " '주위',\n",
       " '브래지어',\n",
       " '분위기',\n",
       " '아저씨',\n",
       " '구석',\n",
       " '피해자',\n",
       " '그게',\n",
       " '팬티',\n",
       " '어리둥절',\n",
       " '누군가',\n",
       " '라디오',\n",
       " '짜증',\n",
       " '의경',\n",
       " '방송',\n",
       " '빗줄기',\n",
       " '어둠속',\n",
       " '인부',\n",
       " '조병순',\n",
       " '유전자',\n",
       " '바람',\n",
       " '서로',\n",
       " '주변',\n",
       " '참깨밭',\n",
       " '근처',\n",
       " '듯이',\n",
       " '가방',\n",
       " '코피',\n",
       " '휴지',\n",
       " '권기옥',\n",
       " '기억',\n",
       " '자신',\n",
       " '이건',\n",
       " '신문',\n",
       " '조심스레',\n",
       " '빗소리',\n",
       " '빗물',\n",
       " '언덕집',\n",
       " '총구']"
      ]
     },
     "execution_count": 11,
     "metadata": {},
     "output_type": "execute_result"
    }
   ],
   "source": [
    "list(model.wv.index2word)"
   ]
  },
  {
   "cell_type": "markdown",
   "metadata": {},
   "source": [
    "<br></br>\n",
    "## **4 Word2Vec 모델 내용 확인**\n",
    "gensim"
   ]
  },
  {
   "cell_type": "code",
   "execution_count": 12,
   "metadata": {},
   "outputs": [
    {
     "name": "stderr",
     "output_type": "stream",
     "text": [
      "/home/markbaum/Python/nltk/lib/python3.6/site-packages/gensim/matutils.py:737: FutureWarning: Conversion of the second argument of issubdtype from `int` to `np.signedinteger` is deprecated. In future, it will be treated as `np.int64 == np.dtype(int).type`.\n",
      "  if np.issubdtype(vec.dtype, np.int):\n"
     ]
    },
    {
     "data": {
      "text/plain": [
       "[('우리', 0.7819889783859253),\n",
       " ('거기', 0.7093459367752075),\n",
       " ('그냥', 0.6733643412590027),\n",
       " ('그거', 0.5979774594306946),\n",
       " ('변소', 0.5972049236297607),\n",
       " ('여기', 0.5735130310058594),\n",
       " ('하나', 0.5555899739265442),\n",
       " ('당신', 0.5416866540908813),\n",
       " ('현장', 0.5182941555976868),\n",
       " ('얘기', 0.5174719095230103)]"
      ]
     },
     "execution_count": 12,
     "metadata": {},
     "output_type": "execute_result"
    }
   ],
   "source": [
    "model.wv.most_similar(positive=['범인'])"
   ]
  },
  {
   "cell_type": "code",
   "execution_count": 13,
   "metadata": {},
   "outputs": [
    {
     "name": "stderr",
     "output_type": "stream",
     "text": [
      "/home/markbaum/Python/nltk/lib/python3.6/site-packages/gensim/matutils.py:737: FutureWarning: Conversion of the second argument of issubdtype from `int` to `np.signedinteger` is deprecated. In future, it will be treated as `np.int64 == np.dtype(int).type`.\n",
      "  if np.issubdtype(vec.dtype, np.int):\n"
     ]
    },
    {
     "data": {
      "text/plain": [
       "[('어리둥절', 0.12210915982723236),\n",
       " ('괴남자', 0.09511345624923706),\n",
       " ('인부', 0.08179937303066254),\n",
       " ('잔뜩', 0.06892582774162292),\n",
       " ('형사', 0.06430697441101074),\n",
       " ('박해일', 0.05984020233154297),\n",
       " ('시선', 0.04706916958093643),\n",
       " ('화면', 0.046084001660346985),\n",
       " ('조심스레', 0.015587203204631805),\n",
       " ('권기옥', 0.013193875551223755)]"
      ]
     },
     "execution_count": 13,
     "metadata": {},
     "output_type": "execute_result"
    }
   ],
   "source": [
    "model.wv.most_similar(negative=['범인'])"
   ]
  },
  {
   "cell_type": "code",
   "execution_count": 14,
   "metadata": {},
   "outputs": [
    {
     "name": "stderr",
     "output_type": "stream",
     "text": [
      "/home/markbaum/Python/nltk/lib/python3.6/site-packages/gensim/matutils.py:737: FutureWarning: Conversion of the second argument of issubdtype from `int` to `np.signedinteger` is deprecated. In future, it will be treated as `np.int64 == np.dtype(int).type`.\n",
      "  if np.issubdtype(vec.dtype, np.int):\n"
     ]
    },
    {
     "data": {
      "text/plain": [
       "[('이향숙', 0.6931964755058289),\n",
       " ('의경', 0.6731034517288208),\n",
       " ('참깨밭', 0.6461093425750732),\n",
       " ('발견', 0.6027163863182068),\n",
       " ('새끼', 0.5910192728042603),\n",
       " ('조그만', 0.5660576820373535),\n",
       " ('순경', 0.5389976501464844),\n",
       " ('하나', 0.5217736959457397),\n",
       " ('조심스레', 0.510237455368042),\n",
       " ('스타킹', 0.507908046245575)]"
      ]
     },
     "execution_count": 14,
     "metadata": {},
     "output_type": "execute_result"
    }
   ],
   "source": [
    "model.wv.most_similar(positive=['피해자'])"
   ]
  },
  {
   "cell_type": "code",
   "execution_count": 15,
   "metadata": {},
   "outputs": [
    {
     "name": "stderr",
     "output_type": "stream",
     "text": [
      "/home/markbaum/Python/nltk/lib/python3.6/site-packages/gensim/matutils.py:737: FutureWarning: Conversion of the second argument of issubdtype from `int` to `np.signedinteger` is deprecated. In future, it will be treated as `np.int64 == np.dtype(int).type`.\n",
      "  if np.issubdtype(vec.dtype, np.int):\n"
     ]
    },
    {
     "data": {
      "text/plain": [
       "[('총구', 0.20503060519695282),\n",
       " ('너머', 0.1801692694425583),\n",
       " ('보고', 0.164371520280838),\n",
       " ('라디오', 0.13938312232494354),\n",
       " ('그대로', 0.11682337522506714),\n",
       " ('짜증', 0.08729054033756256),\n",
       " ('기차', 0.08208483457565308),\n",
       " ('책상', 0.06052040308713913),\n",
       " ('분위기', 0.04763887822628021),\n",
       " ('박해일', 0.037469007074832916)]"
      ]
     },
     "execution_count": 15,
     "metadata": {},
     "output_type": "execute_result"
    }
   ],
   "source": [
    "model.wv.most_similar(negative=['피해자'])"
   ]
  },
  {
   "cell_type": "code",
   "execution_count": 16,
   "metadata": {},
   "outputs": [
    {
     "name": "stderr",
     "output_type": "stream",
     "text": [
      "/home/markbaum/Python/nltk/lib/python3.6/site-packages/gensim/matutils.py:737: FutureWarning: Conversion of the second argument of issubdtype from `int` to `np.signedinteger` is deprecated. In future, it will be treated as `np.int64 == np.dtype(int).type`.\n",
      "  if np.issubdtype(vec.dtype, np.int):\n"
     ]
    },
    {
     "data": {
      "text/plain": [
       "[('뭔가', 0.7350773811340332),\n",
       " ('서태윤', 0.7255465984344482),\n",
       " ('휴지', 0.67298424243927),\n",
       " ('백광호', 0.6583194732666016),\n",
       " ('어리둥절', 0.6367371082305908),\n",
       " ('조용구', 0.6236339211463928),\n",
       " ('고개', 0.6142460703849792),\n",
       " ('듯이', 0.6114382743835449),\n",
       " ('코피', 0.596648633480072),\n",
       " ('표정', 0.5961127281188965)]"
      ]
     },
     "execution_count": 16,
     "metadata": {},
     "output_type": "execute_result"
    }
   ],
   "source": [
    "model.wv.most_similar(positive=['박두만'])"
   ]
  },
  {
   "cell_type": "code",
   "execution_count": 17,
   "metadata": {
    "scrolled": false
   },
   "outputs": [
    {
     "name": "stderr",
     "output_type": "stream",
     "text": [
      "/home/markbaum/Python/nltk/lib/python3.6/site-packages/gensim/matutils.py:737: FutureWarning: Conversion of the second argument of issubdtype from `int` to `np.signedinteger` is deprecated. In future, it will be treated as `np.int64 == np.dtype(int).type`.\n",
      "  if np.issubdtype(vec.dtype, np.int):\n"
     ]
    },
    {
     "data": {
      "text/plain": [
       "[('박두만', 0.7255465984344482),\n",
       " ('서서히', 0.654887318611145),\n",
       " ('박해일', 0.6378349661827087),\n",
       " ('권귀옥', 0.6181622743606567),\n",
       " ('백광호', 0.6062732338905334),\n",
       " ('순간', 0.5798853039741516),\n",
       " ('반장', 0.5684751272201538),\n",
       " ('취조실', 0.5630354285240173),\n",
       " ('그대로', 0.561481237411499),\n",
       " ('시작', 0.5598491430282593)]"
      ]
     },
     "execution_count": 17,
     "metadata": {},
     "output_type": "execute_result"
    }
   ],
   "source": [
    "model.wv.most_similar(positive=['서태윤'])"
   ]
  },
  {
   "cell_type": "code",
   "execution_count": 28,
   "metadata": {
    "scrolled": false
   },
   "outputs": [
    {
     "name": "stderr",
     "output_type": "stream",
     "text": [
      "/home/markbaum/Python/nltk/lib/python3.6/site-packages/gensim/matutils.py:737: FutureWarning: Conversion of the second argument of issubdtype from `int` to `np.signedinteger` is deprecated. In future, it will be treated as `np.int64 == np.dtype(int).type`.\n",
      "  if np.issubdtype(vec.dtype, np.int):\n"
     ]
    },
    {
     "data": {
      "text/plain": [
       "[('보고', 0.6858013272285461),\n",
       " ('갑자기', 0.6498557329177856),\n",
       " ('백광호', 0.6497148871421814),\n",
       " ('구희봉', 0.6321918368339539),\n",
       " ('박두만', 0.6236339807510376),\n",
       " ('자리', 0.6155992746353149),\n",
       " ('짜증', 0.6148412823677063),\n",
       " ('사무실', 0.6022841930389404),\n",
       " ('모두', 0.577048122882843),\n",
       " ('휴지', 0.56710284948349),\n",
       " ('잠시', 0.5623730421066284),\n",
       " ('다리', 0.5549356341362),\n",
       " ('형사', 0.5387867093086243),\n",
       " ('그대로', 0.5321095585823059),\n",
       " ('표정', 0.5302832722663879),\n",
       " ('서태윤', 0.5152056217193604),\n",
       " ('코피', 0.4974016547203064),\n",
       " ('사진', 0.492130845785141),\n",
       " ('반장', 0.490044504404068),\n",
       " ('어디', 0.48879390954971313)]"
      ]
     },
     "execution_count": 28,
     "metadata": {},
     "output_type": "execute_result"
    }
   ],
   "source": [
    "model.wv.most_similar(positive=['조용구'])"
   ]
  },
  {
   "cell_type": "code",
   "execution_count": 19,
   "metadata": {},
   "outputs": [
    {
     "name": "stderr",
     "output_type": "stream",
     "text": [
      "/home/markbaum/Python/nltk/lib/python3.6/site-packages/gensim/matutils.py:737: FutureWarning: Conversion of the second argument of issubdtype from `int` to `np.signedinteger` is deprecated. In future, it will be treated as `np.int64 == np.dtype(int).type`.\n",
      "  if np.issubdtype(vec.dtype, np.int):\n"
     ]
    },
    {
     "data": {
      "text/plain": [
       "[('뭔가', 0.6861428022384644),\n",
       " ('백광호', 0.6807259917259216),\n",
       " ('박해일', 0.6542908549308777),\n",
       " ('휴지', 0.6511595845222473),\n",
       " ('듯이', 0.6173654794692993),\n",
       " ('조용구', 0.6130334138870239),\n",
       " ('반장', 0.6104703545570374),\n",
       " ('순간', 0.6101688146591187),\n",
       " ('잠시', 0.604874312877655),\n",
       " ('권귀옥', 0.5979567170143127)]"
      ]
     },
     "execution_count": 19,
     "metadata": {},
     "output_type": "execute_result"
    }
   ],
   "source": [
    "model.wv.most_similar(positive=['박두만','서태윤'])"
   ]
  },
  {
   "cell_type": "code",
   "execution_count": 20,
   "metadata": {},
   "outputs": [
    {
     "name": "stderr",
     "output_type": "stream",
     "text": [
      "/home/markbaum/Python/nltk/lib/python3.6/site-packages/gensim/matutils.py:737: FutureWarning: Conversion of the second argument of issubdtype from `int` to `np.signedinteger` is deprecated. In future, it will be treated as `np.int64 == np.dtype(int).type`.\n",
      "  if np.issubdtype(vec.dtype, np.int):\n"
     ]
    },
    {
     "data": {
      "text/plain": [
       "[('박해일', 0.6289889216423035),\n",
       " ('휴지', 0.6180371046066284),\n",
       " ('듯이', 0.593530535697937),\n",
       " ('총구', 0.5750112533569336),\n",
       " ('보고', 0.563163161277771),\n",
       " ('반장', 0.5612021088600159),\n",
       " ('그대로', 0.5599506497383118),\n",
       " ('짜증', 0.5426239967346191),\n",
       " ('잠시', 0.5234578847885132),\n",
       " ('백광호', 0.5190074443817139)]"
      ]
     },
     "execution_count": 20,
     "metadata": {},
     "output_type": "execute_result"
    }
   ],
   "source": [
    "model.wv.most_similar(positive=['박두만','서태윤'],\n",
    "                      negative=['피해자'])"
   ]
  },
  {
   "cell_type": "code",
   "execution_count": 21,
   "metadata": {},
   "outputs": [
    {
     "name": "stderr",
     "output_type": "stream",
     "text": [
      "/home/markbaum/Python/nltk/lib/python3.6/site-packages/gensim/matutils.py:737: FutureWarning: Conversion of the second argument of issubdtype from `int` to `np.signedinteger` is deprecated. In future, it will be treated as `np.int64 == np.dtype(int).type`.\n",
      "  if np.issubdtype(vec.dtype, np.int):\n"
     ]
    },
    {
     "data": {
      "text/plain": [
       "[('반장', 0.671919584274292),\n",
       " ('자리', 0.6687173843383789),\n",
       " ('휴지', 0.6251221895217896),\n",
       " ('조용구', 0.6248034238815308),\n",
       " ('짜증', 0.6208730936050415),\n",
       " ('뭔가', 0.6176093220710754),\n",
       " ('코피', 0.6085906624794006),\n",
       " ('구석', 0.6058652400970459),\n",
       " ('인부', 0.5816159248352051),\n",
       " ('듯이', 0.5755199193954468)]"
      ]
     },
     "execution_count": 21,
     "metadata": {},
     "output_type": "execute_result"
    }
   ],
   "source": [
    "model.wv.most_similar(positive=['박두만','서태윤'],\n",
    "                      negative=['박해일'])"
   ]
  },
  {
   "cell_type": "code",
   "execution_count": 22,
   "metadata": {},
   "outputs": [
    {
     "name": "stderr",
     "output_type": "stream",
     "text": [
      "/home/markbaum/Python/nltk/lib/python3.6/site-packages/gensim/matutils.py:737: FutureWarning: Conversion of the second argument of issubdtype from `int` to `np.signedinteger` is deprecated. In future, it will be treated as `np.int64 == np.dtype(int).type`.\n",
      "  if np.issubdtype(vec.dtype, np.int):\n"
     ]
    },
    {
     "data": {
      "text/plain": [
       "[('박해일', 0.6511542797088623),\n",
       " ('어리둥절', 0.5946971774101257),\n",
       " ('순간', 0.5613033771514893),\n",
       " ('잠시', 0.5460839867591858),\n",
       " ('고개', 0.5418913960456848),\n",
       " ('괴남자', 0.5243639945983887),\n",
       " ('조용구', 0.5201342105865479),\n",
       " ('백광호', 0.5166887044906616),\n",
       " ('휴지', 0.5051409602165222),\n",
       " ('듯이', 0.5021201968193054)]"
      ]
     },
     "execution_count": 22,
     "metadata": {},
     "output_type": "execute_result"
    }
   ],
   "source": [
    "model.wv.most_similar(positive=['박두만','서태윤'],\n",
    "                      negative=['범인'])"
   ]
  },
  {
   "cell_type": "markdown",
   "metadata": {},
   "source": [
    "<br></br>\n",
    "## **5 Visulaization**\n",
    "gensim"
   ]
  },
  {
   "cell_type": "code",
   "execution_count": 23,
   "metadata": {},
   "outputs": [
    {
     "data": {
      "text/plain": [
       "['박두만', '서태윤', '조용구', '권귀옥', '구희봉', '백광호', '박해일', '용의자', '남자', '동네']"
      ]
     },
     "execution_count": 23,
     "metadata": {},
     "output_type": "execute_result"
    }
   ],
   "source": [
    "list(model.wv.vocab.keys())[:10]"
   ]
  },
  {
   "cell_type": "code",
   "execution_count": 24,
   "metadata": {},
   "outputs": [
    {
     "name": "stderr",
     "output_type": "stream",
     "text": [
      "/home/markbaum/Python/nltk/lib/python3.6/site-packages/ipykernel_launcher.py:3: DeprecationWarning: Call to deprecated `__getitem__` (Method will be removed in 4.0.0, use self.wv.__getitem__() instead).\n",
      "  This is separate from the ipykernel package so we can avoid doing imports until\n"
     ]
    },
    {
     "data": {
      "text/plain": [
       "(149, 30)"
      ]
     },
     "execution_count": 24,
     "metadata": {},
     "output_type": "execute_result"
    }
   ],
   "source": [
    "# model.wv.vocab : { word: object of numeric vector }\n",
    "vocab  = list(model.wv.vocab)\n",
    "X      = model[vocab]\n",
    "X.shape"
   ]
  },
  {
   "cell_type": "code",
   "execution_count": 25,
   "metadata": {},
   "outputs": [
    {
     "name": "stdout",
     "output_type": "stream",
     "text": [
      "CPU times: user 1.89 s, sys: 443 ms, total: 2.34 s\n",
      "Wall time: 2.12 s\n"
     ]
    }
   ],
   "source": [
    "%%time\n",
    "from sklearn.manifold import TSNE\n",
    "tsne   = TSNE(n_components = 2)\n",
    "X_tsne = tsne.fit_transform(X)"
   ]
  },
  {
   "cell_type": "code",
   "execution_count": 26,
   "metadata": {},
   "outputs": [
    {
     "data": {
      "text/html": [
       "<div>\n",
       "<style scoped>\n",
       "    .dataframe tbody tr th:only-of-type {\n",
       "        vertical-align: middle;\n",
       "    }\n",
       "\n",
       "    .dataframe tbody tr th {\n",
       "        vertical-align: top;\n",
       "    }\n",
       "\n",
       "    .dataframe thead th {\n",
       "        text-align: right;\n",
       "    }\n",
       "</style>\n",
       "<table border=\"1\" class=\"dataframe\">\n",
       "  <thead>\n",
       "    <tr style=\"text-align: right;\">\n",
       "      <th></th>\n",
       "      <th>x</th>\n",
       "      <th>y</th>\n",
       "    </tr>\n",
       "  </thead>\n",
       "  <tbody>\n",
       "    <tr>\n",
       "      <th>박두만</th>\n",
       "      <td>0.819334</td>\n",
       "      <td>0.927133</td>\n",
       "    </tr>\n",
       "    <tr>\n",
       "      <th>서태윤</th>\n",
       "      <td>0.880443</td>\n",
       "      <td>0.359644</td>\n",
       "    </tr>\n",
       "    <tr>\n",
       "      <th>조용구</th>\n",
       "      <td>1.632412</td>\n",
       "      <td>1.241810</td>\n",
       "    </tr>\n",
       "    <tr>\n",
       "      <th>권귀옥</th>\n",
       "      <td>0.208324</td>\n",
       "      <td>0.569386</td>\n",
       "    </tr>\n",
       "    <tr>\n",
       "      <th>구희봉</th>\n",
       "      <td>3.856495</td>\n",
       "      <td>1.565856</td>\n",
       "    </tr>\n",
       "  </tbody>\n",
       "</table>\n",
       "</div>"
      ],
      "text/plain": [
       "            x         y\n",
       "박두만  0.819334  0.927133\n",
       "서태윤  0.880443  0.359644\n",
       "조용구  1.632412  1.241810\n",
       "권귀옥  0.208324  0.569386\n",
       "구희봉  3.856495  1.565856"
      ]
     },
     "execution_count": 26,
     "metadata": {},
     "output_type": "execute_result"
    }
   ],
   "source": [
    "import pandas as pd\n",
    "df = pd.DataFrame(X_tsne, \n",
    "                  index   = vocab, \n",
    "                  columns = ['x', 'y'])\n",
    "df.head()"
   ]
  },
  {
   "cell_type": "code",
   "execution_count": 27,
   "metadata": {},
   "outputs": [
    {
     "data": {
      "image/png": "[encoded data removed]",
      "text/plain": [
       "<Figure size 864x864 with 1 Axes>"
      ]
     },
     "metadata": {},
     "output_type": "display_data"
    }
   ],
   "source": [
    "%matplotlib inline\n",
    "from matplotlib import rc\n",
    "rc('font', family=['NanumGothic','Malgun Gothic'])\n",
    "\n",
    "import matplotlib.pyplot as plt\n",
    "fig = plt.figure(figsize=(12,12))\n",
    "ax  = fig.add_subplot(1, 1, 1)\n",
    "ax.scatter(df['x'], df['y'])\n",
    "for word, pos in df.iterrows():\n",
    "    ax.annotate(word, pos, fontsize=15)\n",
    "plt.grid(True)"
   ]
  }
 ],
 "metadata": {
  "kernelspec": {
   "display_name": "Python 3",
   "language": "python",
   "name": "python3"
  },
  "language_info": {
   "codemirror_mode": {
    "name": "ipython",
    "version": 3
   },
   "file_extension": ".py",
   "mimetype": "text/x-python",
   "name": "python",
   "nbconvert_exporter": "python",
   "pygments_lexer": "ipython3",
   "version": "3.6.3"
  }
 },
 "nbformat": 4,
 "nbformat_minor": 2
}
