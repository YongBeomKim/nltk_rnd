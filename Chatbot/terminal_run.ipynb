{
 "cells": [
  {
   "cell_type": "code",
   "execution_count": 1,
   "metadata": {},
   "outputs": [
    {
     "name": "stdout",
     "output_type": "stream",
     "text": [
      "Traceback (most recent call last):\n",
      "  File \"chat.py\", line 73, in <module>\n",
      "    main()\n",
      "  File \"chat.py\", line 69, in main\n",
      "    chatbot = Chat(config.VOC_PATH, config.train_dir)\n",
      "  File \"chat.py\", line 19, in __init__\n",
      "    self.conv.Load_voc(VOC_PATH)\n",
      "  File \"/home/markbaum/Python/Blog/nltk_rnd/data/Chatbot/Conversation.py\", line 105, in Load_voc\n",
      "    with open(voc_path,'r', encoding='utf-8') as f:\n",
      "FileNotFoundError: [Errno 2] No such file or directory: './data/conversation.voc'\n"
     ]
    }
   ],
   "source": [
    "! python chat.py"
   ]
  },
  {
   "cell_type": "code",
   "execution_count": 1,
   "metadata": {},
   "outputs": [
    {
     "name": "stdout",
     "output_type": "stream",
     "text": [
      "vocabluary's Expliction complete\n"
     ]
    }
   ],
   "source": [
    "! python build_voc.py"
   ]
  },
  {
   "cell_type": "code",
   "execution_count": null,
   "metadata": {},
   "outputs": [],
   "source": []
  }
 ],
 "metadata": {
  "kernelspec": {
   "display_name": "Python 3",
   "language": "python",
   "name": "python3"
  },
  "language_info": {
   "codemirror_mode": {
    "name": "ipython",
    "version": 3
   },
   "file_extension": ".py",
   "mimetype": "text/x-python",
   "name": "python",
   "nbconvert_exporter": "python",
   "pygments_lexer": "ipython3",
   "version": "3.6.3"
  }
 },
 "nbformat": 4,
 "nbformat_minor": 2
}
