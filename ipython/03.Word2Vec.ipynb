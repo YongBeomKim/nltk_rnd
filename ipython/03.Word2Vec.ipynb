{
 "cells": [
  {
   "cell_type": "markdown",
   "metadata": {},
   "source": [
    "<br></br>\n",
    "# **Project4 | word2vec**\n",
    "<br></br>\n",
    "## **1 데이터 전처리**"
   ]
  },
  {
   "cell_type": "code",
   "execution_count": 1,
   "metadata": {},
   "outputs": [
    {
     "data": {
      "text/plain": [
       "'박두만\\n서태윤\\n조용구\\n권귀옥\\n구희봉\\n신동철\\n백광호20대 초반. 정박아\\n조병순30대 후반. 변태성향\\n박해일20대 초반. 공장 노동자. ‘유력한 용의자’.\\n선본 남자, 동네 양아치들... 등등\\n30대 초반의 전직 간호조무사, 마을 ‘야매주사’ 여인.\\n안송여중 1학년 학생\\n소현의 단짝 친구\\n박보희, 이향숙, 독고현순, 박명자, 안미선.\\n화면 가득 한 남자 아이의 얼굴이 보여진다.\\n쏟아지는 햇살 아래, 맑은 눈빛의 아이는 카메라 정면을 응시하고 있다.\\n아이는 코스모스 위에 앉아있는 잠자리를 향해 살며시 손을 뻗는다.\\n휙~ 잠자리가 날아가 버리면 ... 끝없이 펼쳐진 가을 논과 푸른 하늘이 보인다.\\n어렴풋이 들려오는 기계소리에 아이가 고개를 돌리면, 저 멀리 경운기 한 대가 오는 것이 보인다. 점점 커지는 소리와 함께, 경운기를 운전하는 노인네와 뒷칸에 \\n올라 탄 한 남자의 모습이 보인다.\\n스포츠 머리에 건달같은 인상을 풍기는 30대 남자 ... 형사 박두만이다.\\n경운기를 세운 노인은 소리를'"
      ]
     },
     "execution_count": 1,
     "metadata": {},
     "output_type": "execute_result"
    }
   ],
   "source": [
    "# 살인의 추억 텍스트 불러오기\n",
    "filename = '../data/movie_memories_of_murder_2003.txt'\n",
    "with open(filename, 'r', encoding='utf-8') as f:\n",
    "    texts = f.read()\n",
    "texts[:500]"
   ]
  },
  {
   "cell_type": "code",
   "execution_count": 2,
   "metadata": {},
   "outputs": [
    {
     "data": {
      "text/plain": [
       "'박두만\\n 서태윤\\n 조용구\\n 권귀옥\\n 구희봉\\n 신동철\\n 백광호 초반 정박\\n 조병순대 후반 변태성향\\n 박해일 초반 공장 노동자 유력 용의자\\n 선본 남자 동네 양아치 등등\\n 초반 전직 간호조무사 마을 야매주사 여인\\n 안송여중 학년 학생\\n 소현 단짝 친구\\n 박보희 이향숙 독고현순 박명자 안미선\\n 화면 가득 남자 아이 얼굴\\n 햇살 아래 맑은 눈빛 아이 카메라 정면 응시\\n 아이 코스모스 잠자리\\n 잠자리 가을 푸른 하늘\\n 기계소리 아이 고개 멀리 경운기 대가 점점 소리 경운기 운전 노인 뒷칸\\n 남자 모습\\n 스포츠 머리 건달 인상 풍기 남자 형사 박두만\\n 경운기 세운 노인 소리 아이 아이 아랑곳 노인 박두 안내 농수로 배수관\\n 화면 등장 여자 시체\\n 배수관 어두운 구멍 나체 여자 시신\\n 미니 후레쉬 주머니 여자 얼굴 박두만\\n 여자 순간 안광이 번뜩\\n 위로 파리 개미 토사물 거기 핏자국 새소리 햇살아래 하늘거리 코스모스\\n 무덤덤 여자 박보희 시체 뭔가 생경 느낌\\n 언제 주위 동네 아이\\n 녀석 여자 '"
      ]
     },
     "execution_count": 2,
     "metadata": {},
     "output_type": "execute_result"
    }
   ],
   "source": [
    "from txtutil import txtnoun\n",
    "skips = {'두만':'박두만', '태윤':'서태윤', '용구':'조용구', '귀옥':'권귀옥', \n",
    "         '희봉':'구희봉', '동철':'신동철', '광호':'백광호', '병순':'조병순', \n",
    "         '해일':'박해일', '광호의':'백광호', '백광호의':'백광호'}\n",
    "texts  = txtnoun(filename, skip=skips, tags=['Noun'])\n",
    "texts[:500]"
   ]
  },
  {
   "cell_type": "code",
   "execution_count": 3,
   "metadata": {},
   "outputs": [
    {
     "name": "stdout",
     "output_type": "stream",
     "text": [
      "전처리 완료된 대본파일 저장 : ../data/mom_script.txt\n"
     ]
    }
   ],
   "source": [
    "# 명사 Token 작업된 자료를 ssResport.txt 로 저장 \n",
    "script_file = '../data/mom_script.txt'\n",
    "with open(script_file, 'w', encoding='utf-8') as file:\n",
    "    file.write(texts)\n",
    "    \n",
    "print(\"전처리 완료된 대본파일 저장 : {}\".format(script_file))"
   ]
  },
  {
   "cell_type": "code",
   "execution_count": 4,
   "metadata": {},
   "outputs": [],
   "source": [
    "# ! cat ./data/ssResport.txt | head -n 10"
   ]
  },
  {
   "cell_type": "markdown",
   "metadata": {},
   "source": [
    "<br></br>\n",
    "## **2 Word 2 vec 객체 만들기**\n",
    "gensim"
   ]
  },
  {
   "cell_type": "code",
   "execution_count": 5,
   "metadata": {},
   "outputs": [],
   "source": [
    "# ! pip3 install gensim"
   ]
  },
  {
   "cell_type": "code",
   "execution_count": 6,
   "metadata": {},
   "outputs": [
    {
     "name": "stdout",
     "output_type": "stream",
     "text": [
      "Word 2 Vec 모델 파일 ../data/mom_script.model 저장완료\n",
      "CPU times: user 3.1 s, sys: 139 ms, total: 3.24 s\n",
      "Wall time: 3.15 s\n"
     ]
    }
   ],
   "source": [
    "%%time\n",
    "from gensim.models import word2vec\n",
    "data  = word2vec.LineSentence(script_file)\n",
    "model = word2vec.Word2Vec(data, size=30, window=2, min_count=10, hs=1,\n",
    "                          workers=4, iter=100, sg=1)\n",
    "\n",
    "model_file = \"../data/mom_script.model\"\n",
    "model.save(model_file)\n",
    "print(\"Word 2 Vec 모델 파일 {} 저장완료\".format(model_file))"
   ]
  },
  {
   "cell_type": "markdown",
   "metadata": {},
   "source": [
    "<br></br>\n",
    "## **3 저장된 모델 불러오기 및 확인**\n",
    "gensim"
   ]
  },
  {
   "cell_type": "code",
   "execution_count": 7,
   "metadata": {},
   "outputs": [
    {
     "name": "stdin",
     "output_type": "stream",
     "text": [
      "Once deleted, variables cannot be recovered. Proceed (y/[n])?  y\n"
     ]
    }
   ],
   "source": [
    "%reset"
   ]
  },
  {
   "cell_type": "code",
   "execution_count": 8,
   "metadata": {},
   "outputs": [
    {
     "name": "stdout",
     "output_type": "stream",
     "text": [
      "Interactive namespace is empty.\n"
     ]
    }
   ],
   "source": [
    "%who"
   ]
  },
  {
   "cell_type": "code",
   "execution_count": 9,
   "metadata": {},
   "outputs": [
    {
     "data": {
      "text/plain": [
       "149"
      ]
     },
     "execution_count": 9,
     "metadata": {},
     "output_type": "execute_result"
    }
   ],
   "source": [
    "model_file = \"../data/mom_script.model\"\n",
    "\n",
    "from gensim.models import word2vec\n",
    "model = word2vec.Word2Vec.load(model_file)\n",
    "len(model.wv.vocab.keys())"
   ]
  },
  {
   "cell_type": "code",
   "execution_count": 10,
   "metadata": {},
   "outputs": [
    {
     "data": {
      "text/plain": [
       "['서태윤',\n",
       " '얼굴',\n",
       " '박두만',\n",
       " '여자',\n",
       " '백광호',\n",
       " '조용구',\n",
       " '박해일',\n",
       " '반장',\n",
       " '계속',\n",
       " '순간',\n",
       " '모습',\n",
       " '소현',\n",
       " '하나',\n",
       " '소리',\n",
       " '시작',\n",
       " '범인',\n",
       " '남자',\n",
       " '사람',\n",
       " '표정',\n",
       " '형사',\n",
       " '다시',\n",
       " '뭔가',\n",
       " '권귀옥',\n",
       " '지금',\n",
       " '고개',\n",
       " '잠시',\n",
       " '아이',\n",
       " '보고',\n",
       " '눈빛',\n",
       " '설영',\n",
       " '여기',\n",
       " '얘기',\n",
       " '동네',\n",
       " '화면',\n",
       " '시체',\n",
       " '시선',\n",
       " '사진',\n",
       " '한번',\n",
       " '서류',\n",
       " '위로',\n",
       " '책상',\n",
       " '새끼',\n",
       " '그림자',\n",
       " '멀리',\n",
       " '점점',\n",
       " '머리',\n",
       " '갑자기',\n",
       " '이향숙',\n",
       " '문득',\n",
       " '사건',\n",
       " '발자국',\n",
       " '자기',\n",
       " '가운데',\n",
       " '당신',\n",
       " '아래',\n",
       " '박두',\n",
       " '괴남자',\n",
       " '저기',\n",
       " '스타킹',\n",
       " '그냥',\n",
       " '목소리',\n",
       " '불빛',\n",
       " '사무실',\n",
       " '진짜',\n",
       " '모두',\n",
       " '운동화',\n",
       " '우리',\n",
       " '사이',\n",
       " '용의자',\n",
       " '현장',\n",
       " '조그만',\n",
       " '다른',\n",
       " '생각',\n",
       " '전경',\n",
       " '기차',\n",
       " '마주',\n",
       " '취조실',\n",
       " '바로',\n",
       " '발견',\n",
       " '임마',\n",
       " '잠깐',\n",
       " '박명자',\n",
       " '거기',\n",
       " '음악',\n",
       " '부분',\n",
       " '시점',\n",
       " '간다',\n",
       " '그거',\n",
       " '끄덕',\n",
       " '자리',\n",
       " '버럭',\n",
       " '우산',\n",
       " '변소',\n",
       " '어디',\n",
       " '정말',\n",
       " '잔뜩',\n",
       " '다리',\n",
       " '그대로',\n",
       " '똑바로',\n",
       " '서서히',\n",
       " '가득',\n",
       " '인상',\n",
       " '후레쉬',\n",
       " '너머',\n",
       " '순경',\n",
       " '저녁',\n",
       " '경찰',\n",
       " '훈련',\n",
       " '언덕',\n",
       " '구희봉',\n",
       " '카메라',\n",
       " '주위',\n",
       " '브래지어',\n",
       " '분위기',\n",
       " '아저씨',\n",
       " '구석',\n",
       " '피해자',\n",
       " '그게',\n",
       " '팬티',\n",
       " '어리둥절',\n",
       " '누군가',\n",
       " '라디오',\n",
       " '짜증',\n",
       " '의경',\n",
       " '방송',\n",
       " '빗줄기',\n",
       " '어둠속',\n",
       " '인부',\n",
       " '조병순',\n",
       " '유전자',\n",
       " '바람',\n",
       " '서로',\n",
       " '주변',\n",
       " '참깨밭',\n",
       " '근처',\n",
       " '듯이',\n",
       " '가방',\n",
       " '코피',\n",
       " '휴지',\n",
       " '권기옥',\n",
       " '기억',\n",
       " '자신',\n",
       " '이건',\n",
       " '신문',\n",
       " '조심스레',\n",
       " '빗소리',\n",
       " '빗물',\n",
       " '언덕집',\n",
       " '총구']"
      ]
     },
     "execution_count": 10,
     "metadata": {},
     "output_type": "execute_result"
    }
   ],
   "source": [
    "list(model.wv.index2word)"
   ]
  },
  {
   "cell_type": "markdown",
   "metadata": {},
   "source": [
    "<br></br>\n",
    "## **4 Word2Vec 모델 내용 확인**\n",
    "모델을 활용하여 유력한 범인을 찾아보자!!\n",
    "<img src=\"../data/test.jpg\" width='800'>"
   ]
  },
  {
   "cell_type": "code",
   "execution_count": 14,
   "metadata": {},
   "outputs": [
    {
     "name": "stderr",
     "output_type": "stream",
     "text": [
      "/home/markbaum/Python/nltk/lib/python3.6/site-packages/gensim/matutils.py:737: FutureWarning: Conversion of the second argument of issubdtype from `int` to `np.signedinteger` is deprecated. In future, it will be treated as `np.int64 == np.dtype(int).type`.\n",
      "  if np.issubdtype(vec.dtype, np.int):\n"
     ]
    },
    {
     "data": {
      "text/plain": [
       "[('우리', 0.7657853960990906),\n",
       " ('거기', 0.7031747102737427),\n",
       " ('얘기', 0.6017789840698242),\n",
       " ('그냥', 0.5966429710388184),\n",
       " ('변소', 0.5796588063240051),\n",
       " ('목소리', 0.5473567247390747),\n",
       " ('여기', 0.543027400970459),\n",
       " ('한번', 0.5348041653633118),\n",
       " ('당신', 0.527199923992157),\n",
       " ('그거', 0.5148324966430664)]"
      ]
     },
     "execution_count": 14,
     "metadata": {},
     "output_type": "execute_result"
    }
   ],
   "source": [
    "# 범인과 관련된 내용 중 사람이름이 안나옴...\n",
    "model.wv.most_similar('범인', topn=10)"
   ]
  },
  {
   "cell_type": "code",
   "execution_count": 15,
   "metadata": {},
   "outputs": [
    {
     "name": "stderr",
     "output_type": "stream",
     "text": [
      "/home/markbaum/Python/nltk/lib/python3.6/site-packages/gensim/matutils.py:737: FutureWarning: Conversion of the second argument of issubdtype from `int` to `np.signedinteger` is deprecated. In future, it will be treated as `np.int64 == np.dtype(int).type`.\n",
      "  if np.issubdtype(vec.dtype, np.int):\n"
     ]
    },
    {
     "data": {
      "text/plain": [
       "[('사건', 0.7748203277587891),\n",
       " ('사진', 0.7385959625244141),\n",
       " ('참깨밭', 0.6757069230079651),\n",
       " ('이향숙', 0.6449573636054993),\n",
       " ('용의자', 0.5981895923614502),\n",
       " ('근처', 0.581455409526825),\n",
       " ('보고', 0.5800377726554871),\n",
       " ('박명자', 0.5551670789718628),\n",
       " ('발자국', 0.5464951992034912),\n",
       " ('서류', 0.546358585357666),\n",
       " ('시점', 0.5445058941841125),\n",
       " ('경찰', 0.542427659034729),\n",
       " ('범인', 0.5065295100212097),\n",
       " ('우리', 0.5054528713226318),\n",
       " ('백광호', 0.49970543384552),\n",
       " ('위로', 0.48862361907958984),\n",
       " ('눈빛', 0.48335665464401245),\n",
       " ('운동화', 0.4804335832595825),\n",
       " ('뭔가', 0.478388249874115),\n",
       " ('자신', 0.47584202885627747),\n",
       " ('순경', 0.4705807566642761),\n",
       " ('박두', 0.4614790976047516),\n",
       " ('바로', 0.44905176758766174),\n",
       " ('박두만', 0.4300328195095062),\n",
       " ('휴지', 0.4259684085845947),\n",
       " ('동네', 0.4225274920463562),\n",
       " ('얼굴', 0.4126938581466675),\n",
       " ('전경', 0.41211771965026855),\n",
       " ('다른', 0.4068696200847626),\n",
       " ('똑바로', 0.39020615816116333)]"
      ]
     },
     "execution_count": 15,
     "metadata": {},
     "output_type": "execute_result"
    }
   ],
   "source": [
    "# 현장과 가장 가깝게 등장한 인물이 1명 등장\n",
    "model.wv.most_similar('현장', topn=30)"
   ]
  },
  {
   "cell_type": "code",
   "execution_count": 16,
   "metadata": {},
   "outputs": [
    {
     "name": "stderr",
     "output_type": "stream",
     "text": [
      "/home/markbaum/Python/nltk/lib/python3.6/site-packages/gensim/matutils.py:737: FutureWarning: Conversion of the second argument of issubdtype from `int` to `np.signedinteger` is deprecated. In future, it will be treated as `np.int64 == np.dtype(int).type`.\n",
      "  if np.issubdtype(vec.dtype, np.int):\n"
     ]
    },
    {
     "data": {
      "text/plain": [
       "[('사진', 0.7766458988189697),\n",
       " ('용의자', 0.7116309404373169),\n",
       " ('사건', 0.683249294757843),\n",
       " ('박두만', 0.6514775156974792),\n",
       " ('이향숙', 0.6224572658538818),\n",
       " ('얼굴', 0.617832601070404),\n",
       " ('서류', 0.6041851043701172),\n",
       " ('참깨밭', 0.5929492712020874),\n",
       " ('보고', 0.5812572836875916),\n",
       " ('똑바로', 0.5734491348266602),\n",
       " ('박명자', 0.5714393854141235),\n",
       " ('뭔가', 0.5683324933052063),\n",
       " ('발자국', 0.5605117082595825),\n",
       " ('조용구', 0.5600208640098572),\n",
       " ('근처', 0.5549762845039368),\n",
       " ('휴지', 0.5407590270042419),\n",
       " ('눈빛', 0.5187709927558899),\n",
       " ('서태윤', 0.5093235969543457),\n",
       " ('발견', 0.5066721439361572),\n",
       " ('운동화', 0.5007686018943787)]"
      ]
     },
     "execution_count": 16,
     "metadata": {},
     "output_type": "execute_result"
    }
   ],
   "source": [
    "# 현장 과 백광호 와 밀접한 증거들 중에 방해가 되는 내용을 찾는다\n",
    "model.wv.most_similar(['현장','백광호'], topn=20)"
   ]
  },
  {
   "cell_type": "code",
   "execution_count": 17,
   "metadata": {},
   "outputs": [
    {
     "name": "stderr",
     "output_type": "stream",
     "text": [
      "/home/markbaum/Python/nltk/lib/python3.6/site-packages/gensim/matutils.py:737: FutureWarning: Conversion of the second argument of issubdtype from `int` to `np.signedinteger` is deprecated. In future, it will be treated as `np.int64 == np.dtype(int).type`.\n",
      "  if np.issubdtype(vec.dtype, np.int):\n"
     ]
    },
    {
     "data": {
      "text/plain": [
       "[('똑바로', 0.6296697854995728),\n",
       " ('얼굴', 0.5990227460861206),\n",
       " ('사진', 0.596217155456543),\n",
       " ('용의자', 0.5773370265960693),\n",
       " ('서류', 0.5585387945175171),\n",
       " ('서태윤', 0.5258101224899292),\n",
       " ('박해일', 0.5132037997245789),\n",
       " ('보고', 0.5024166703224182),\n",
       " ('박두만', 0.5013089776039124),\n",
       " ('사건', 0.48388320207595825),\n",
       " ('총구', 0.47742757201194763),\n",
       " ('구희봉', 0.46954941749572754),\n",
       " ('눈빛', 0.4486200511455536),\n",
       " ('시점', 0.4485126733779907),\n",
       " ('그대로', 0.44813409447669983),\n",
       " ('조용구', 0.41568073630332947),\n",
       " ('다리', 0.41550344228744507),\n",
       " ('잠시', 0.41541194915771484),\n",
       " ('표정', 0.40856194496154785),\n",
       " ('기차', 0.4045943021774292)]"
      ]
     },
     "execution_count": 17,
     "metadata": {},
     "output_type": "execute_result"
    }
   ],
   "source": [
    "# 현장 과 백광호 와 밀접한 증거들 중에 '참깨밭' 이 계속 방해가 됨\n",
    "# 참깨밭에 백광호가 밀접하게 연결되어 있어서 이를 제외한 분석이 필요\n",
    "model.wv.most_similar(['현장','백광호'], negative=['참깨밭'], topn=20)"
   ]
  },
  {
   "cell_type": "markdown",
   "metadata": {},
   "source": [
    "<br></br>\n",
    "## **5 Visulaization**\n",
    "gensim"
   ]
  },
  {
   "cell_type": "code",
   "execution_count": 18,
   "metadata": {},
   "outputs": [
    {
     "data": {
      "text/plain": [
       "['박두만', '서태윤', '조용구', '권귀옥', '구희봉', '백광호', '박해일', '용의자', '남자', '동네']"
      ]
     },
     "execution_count": 18,
     "metadata": {},
     "output_type": "execute_result"
    }
   ],
   "source": [
    "list(model.wv.vocab.keys())[:10]"
   ]
  },
  {
   "cell_type": "code",
   "execution_count": 19,
   "metadata": {},
   "outputs": [
    {
     "name": "stderr",
     "output_type": "stream",
     "text": [
      "/home/markbaum/Python/nltk/lib/python3.6/site-packages/ipykernel_launcher.py:3: DeprecationWarning: Call to deprecated `__getitem__` (Method will be removed in 4.0.0, use self.wv.__getitem__() instead).\n",
      "  This is separate from the ipykernel package so we can avoid doing imports until\n"
     ]
    },
    {
     "data": {
      "text/plain": [
       "(149, 30)"
      ]
     },
     "execution_count": 19,
     "metadata": {},
     "output_type": "execute_result"
    }
   ],
   "source": [
    "# model.wv.vocab : { word: object of numeric vector }\n",
    "vocab  = list(model.wv.vocab)\n",
    "X      = model[vocab]\n",
    "X.shape"
   ]
  },
  {
   "cell_type": "code",
   "execution_count": 20,
   "metadata": {},
   "outputs": [
    {
     "name": "stdout",
     "output_type": "stream",
     "text": [
      "CPU times: user 1.82 s, sys: 438 ms, total: 2.26 s\n",
      "Wall time: 2 s\n"
     ]
    }
   ],
   "source": [
    "%%time\n",
    "from sklearn.manifold import TSNE\n",
    "tsne   = TSNE(n_components = 2)\n",
    "X_tsne = tsne.fit_transform(X)"
   ]
  },
  {
   "cell_type": "code",
   "execution_count": 21,
   "metadata": {},
   "outputs": [
    {
     "data": {
      "text/html": [
       "<div>\n",
       "<style scoped>\n",
       "    .dataframe tbody tr th:only-of-type {\n",
       "        vertical-align: middle;\n",
       "    }\n",
       "\n",
       "    .dataframe tbody tr th {\n",
       "        vertical-align: top;\n",
       "    }\n",
       "\n",
       "    .dataframe thead th {\n",
       "        text-align: right;\n",
       "    }\n",
       "</style>\n",
       "<table border=\"1\" class=\"dataframe\">\n",
       "  <thead>\n",
       "    <tr style=\"text-align: right;\">\n",
       "      <th></th>\n",
       "      <th>x</th>\n",
       "      <th>y</th>\n",
       "    </tr>\n",
       "  </thead>\n",
       "  <tbody>\n",
       "    <tr>\n",
       "      <th>박두만</th>\n",
       "      <td>0.735912</td>\n",
       "      <td>-1.383330</td>\n",
       "    </tr>\n",
       "    <tr>\n",
       "      <th>서태윤</th>\n",
       "      <td>0.710188</td>\n",
       "      <td>-1.070344</td>\n",
       "    </tr>\n",
       "    <tr>\n",
       "      <th>조용구</th>\n",
       "      <td>1.423161</td>\n",
       "      <td>-1.549048</td>\n",
       "    </tr>\n",
       "    <tr>\n",
       "      <th>권귀옥</th>\n",
       "      <td>0.668789</td>\n",
       "      <td>-0.529630</td>\n",
       "    </tr>\n",
       "    <tr>\n",
       "      <th>구희봉</th>\n",
       "      <td>3.884049</td>\n",
       "      <td>-1.022798</td>\n",
       "    </tr>\n",
       "  </tbody>\n",
       "</table>\n",
       "</div>"
      ],
      "text/plain": [
       "            x         y\n",
       "박두만  0.735912 -1.383330\n",
       "서태윤  0.710188 -1.070344\n",
       "조용구  1.423161 -1.549048\n",
       "권귀옥  0.668789 -0.529630\n",
       "구희봉  3.884049 -1.022798"
      ]
     },
     "execution_count": 21,
     "metadata": {},
     "output_type": "execute_result"
    }
   ],
   "source": [
    "import pandas as pd\n",
    "df = pd.DataFrame(X_tsne, \n",
    "                  index   = vocab, \n",
    "                  columns = ['x', 'y'])\n",
    "df.head()"
   ]
  },
  {
   "cell_type": "code",
   "execution_count": 22,
   "metadata": {},
   "outputs": [
    {
     "data": {
      "image/png": "[encoded data removed]",
      "text/plain": [
       "<Figure size 864x864 with 1 Axes>"
      ]
     },
     "metadata": {},
     "output_type": "display_data"
    }
   ],
   "source": [
    "%matplotlib inline\n",
    "from matplotlib import rc\n",
    "rc('font', family=['NanumGothic','Malgun Gothic'])\n",
    "\n",
    "import matplotlib.pyplot as plt\n",
    "fig = plt.figure(figsize=(12,12))\n",
    "ax  = fig.add_subplot(1, 1, 1)\n",
    "ax.scatter(df['x'], df['y'])\n",
    "for word, pos in df.iterrows():\n",
    "    ax.annotate(word, pos, fontsize=15)\n",
    "plt.grid(True)"
   ]
  },
  {
   "cell_type": "markdown",
   "metadata": {},
   "source": [
    "<br></br>\n",
    "## **6 결과의 해석 및 활용**\n",
    "1. 유사관계, 반대관계로 **출력된 모든 Token들이 가치가 있지는 않다**\n",
    "1. **min_count, Vector 갯수** 2가지 조건만 사용하여 모델을 생성한다\n",
    "1. Word2Vec 도 **문서를 분석하는 도구**에 불과 (절대적 **가치를 창출하는 기법** 으로 오해 X)\n",
    "1. 해당 분야의 **잘 정리된 Document로 학습한 Word2Vec 모델** 에서 **유의미 한 token 들의 관계** 를 Template으로 잘 정리\n",
    "1. 분석대상 문서를 **유사한 조건으로 word2vec 모델** 을 만들고, **앞에서 정리된 Template와** 비교하여 결과\n",
    "다듬기\n",
    "1. 시나리오의 분석 경우\n",
    "    1. 결과물 중 인물의 Token 만 활용하여 분석\n",
    "    1. 결과물 중 증거물의 Token 만 활용하여 분석\n",
    "    1. 결과물 중 장소의 Token 만 활용하여 분석"
   ]
  },
  {
   "cell_type": "code",
   "execution_count": 11,
   "metadata": {},
   "outputs": [],
   "source": [
    "# model 에 등장하는 인물들\n",
    "charator = [\"박두만\", \"서태윤\", \"조용구\", \"권귀옥\", \"구희봉\", \"신동철\", \"백광호\",\n",
    "            \"조병순\", \"박해일\", \"박보희\", \"이향숙\", \"독고현순\", \"박명자\", \"안미선\", \n",
    "            \"반장\", \"소현\", \"범인\", \"형사\", '괴남자', '순경','피해자', '권기옥','용의자']"
   ]
  },
  {
   "cell_type": "code",
   "execution_count": 12,
   "metadata": {},
   "outputs": [],
   "source": [
    "# model 에 등장하는 장소명 들\n",
    "area = ['현장', '사무실', '취조실', '변소', '참깨밭', '빗줄기', '어둠속', '언덕집']"
   ]
  },
  {
   "cell_type": "code",
   "execution_count": 13,
   "metadata": {},
   "outputs": [],
   "source": [
    "# model 에 등장하는 Item 들\n",
    "items = ['브래지어', '팬티', '우산', '운동화', '스타킹', '목소리', '불빛', '음악', '후레쉬', \n",
    "         '카메라', '라디오', '방송', '유전자', '가방', '코피', '휴지', '신문', '총구']"
   ]
  }
 ],
 "metadata": {
  "kernelspec": {
   "display_name": "Python 3",
   "language": "python",
   "name": "python3"
  },
  "language_info": {
   "codemirror_mode": {
    "name": "ipython",
    "version": 3
   },
   "file_extension": ".py",
   "mimetype": "text/x-python",
   "name": "python",
   "nbconvert_exporter": "python",
   "pygments_lexer": "ipython3",
   "version": "3.6.3"
  }
 },
 "nbformat": 4,
 "nbformat_minor": 2
}
