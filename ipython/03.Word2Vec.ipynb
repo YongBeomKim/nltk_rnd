{
 "cells": [
  {
   "cell_type": "markdown",
   "metadata": {},
   "source": [
    "<br></br>\n",
    "# **Project4 | word2vec**\n",
    "<br></br>\n",
    "## **1 데이터 전처리**"
   ]
  },
  {
   "cell_type": "code",
   "execution_count": 1,
   "metadata": {},
   "outputs": [],
   "source": [
    "# 살인의 추억 텍스트 불러오기\n",
    "filename = '../data/movie_memories_of_murder_2003.txt'\n",
    "with open(filename, 'r', encoding='utf-8') as f:\n",
    "    texts = f.read()\n",
    "texts[:500]"
   ]
  },
  {
   "cell_type": "code",
   "execution_count": 2,
   "metadata": {},
   "outputs": [
    {
     "data": {
      "text/plain": [
       "'박두만\\n 서태윤\\n 조용구\\n 권귀옥\\n 구희봉\\n 신동철\\n 백광호 초반 정박\\n 조병순대 후반 변태성향\\n 박해일 초반 공장 노동자 유력 용의자\\n 선본 남자 동네 양아치 등등\\n 초반 전직 간호조무사 마을 야매주사 여인\\n 안송여중 학년 학생\\n 소현 단짝 친구\\n 박보희 이향숙 독고현순 박명자 안미선\\n 화면 가득 남자 아이 얼굴\\n 햇살 아래 맑은 눈빛 아이 카메라 정면 응시\\n 아이 코스모스 잠자리\\n 잠자리 가을 푸른 하늘\\n 기계소리 아이 고개 멀리 경운기 대가 점점 소리 경운기 운전 노인 뒷칸\\n 남자 모습\\n 스포츠 머리 건달 인상 풍기 남자 형사 박두만\\n 경운기 세운 노인 소리 아이 아이 아랑곳 노인 박두 안내 농수로 배수관\\n 화면 등장 여자 시체\\n 배수관 어두운 구멍 나체 여자 시신\\n 미니 후레쉬 주머니 여자 얼굴 박두만\\n 여자 순간 안광이 번뜩\\n 위로 파리 개미 토사물 거기 핏자국 새소리 햇살아래 하늘거리 코스모스\\n 무덤덤 여자 박보희 시체 뭔가 생경 느낌\\n 언제 주위 동네 아이\\n 녀석 여자 '"
      ]
     },
     "execution_count": 2,
     "metadata": {},
     "output_type": "execute_result"
    }
   ],
   "source": [
    "from txtutil import txtnoun\n",
    "skips = {'두만':'박두만', '태윤':'서태윤', '용구':'조용구', '귀옥':'권귀옥', \n",
    "         '희봉':'구희봉', '동철':'신동철', '광호':'백광호', '병순':'조병순', \n",
    "         '해일':'박해일', '광호의':'백광호', '백광호의':'백광호'}\n",
    "texts  = txtnoun(filename, skip=skips, tags=['Noun'])\n",
    "texts[:500]"
   ]
  },
  {
   "cell_type": "code",
   "execution_count": 3,
   "metadata": {},
   "outputs": [
    {
     "name": "stdout",
     "output_type": "stream",
     "text": [
      "전처리 완료된 대본파일 저장 : ../data/mom_script.txt\n"
     ]
    }
   ],
   "source": [
    "# 명사 Token 작업된 자료를 ssResport.txt 로 저장 \n",
    "script_file = '../data/mom_script.txt'\n",
    "with open(script_file, 'w', encoding='utf-8') as file:\n",
    "    file.write(texts)\n",
    "    \n",
    "print(\"전처리 완료된 대본파일 저장 : {}\".format(script_file))"
   ]
  },
  {
   "cell_type": "code",
   "execution_count": 4,
   "metadata": {},
   "outputs": [],
   "source": [
    "# ! cat ./data/ssResport.txt | head -n 10"
   ]
  },
  {
   "cell_type": "markdown",
   "metadata": {},
   "source": [
    "<br></br>\n",
    "## **2 Word 2 vec 객체 만들기**\n",
    "gensim"
   ]
  },
  {
   "cell_type": "code",
   "execution_count": 5,
   "metadata": {},
   "outputs": [],
   "source": [
    "# ! pip3 install gensim"
   ]
  },
  {
   "cell_type": "code",
   "execution_count": 6,
   "metadata": {},
   "outputs": [
    {
     "name": "stdout",
     "output_type": "stream",
     "text": [
      "Word 2 Vec 모델 파일 ../data/mom_script.model 저장완료\n",
      "CPU times: user 3.07 s, sys: 149 ms, total: 3.22 s\n",
      "Wall time: 3.14 s\n"
     ]
    }
   ],
   "source": [
    "%%time\n",
    "from gensim.models import word2vec\n",
    "data  = word2vec.LineSentence(script_file)\n",
    "model = word2vec.Word2Vec(data, size=30, window=2, min_count=10, hs=1,\n",
    "                          workers=4, iter=100, sg=1)\n",
    "\n",
    "model_file = \"../data/mom_script.model\"\n",
    "model.save(model_file)\n",
    "print(\"Word 2 Vec 모델 파일 {} 저장완료\".format(model_file))"
   ]
  },
  {
   "cell_type": "markdown",
   "metadata": {},
   "source": [
    "<br></br>\n",
    "## **3 저장된 모델 불러오기 및 확인**\n",
    "gensim"
   ]
  },
  {
   "cell_type": "code",
   "execution_count": 7,
   "metadata": {},
   "outputs": [
    {
     "name": "stdout",
     "output_type": "stream",
     "text": [
      "Once deleted, variables cannot be recovered. Proceed (y/[n])? y\n"
     ]
    }
   ],
   "source": [
    "%reset"
   ]
  },
  {
   "cell_type": "code",
   "execution_count": 8,
   "metadata": {},
   "outputs": [
    {
     "name": "stdout",
     "output_type": "stream",
     "text": [
      "Interactive namespace is empty.\n"
     ]
    }
   ],
   "source": [
    "%who"
   ]
  },
  {
   "cell_type": "code",
   "execution_count": 9,
   "metadata": {},
   "outputs": [
    {
     "data": {
      "text/plain": [
       "149"
      ]
     },
     "execution_count": 9,
     "metadata": {},
     "output_type": "execute_result"
    }
   ],
   "source": [
    "model_file = \"../data/mom_script.model\"\n",
    "\n",
    "from gensim.models import word2vec\n",
    "model = word2vec.Word2Vec.load(model_file)\n",
    "len(model.wv.vocab.keys())"
   ]
  },
  {
   "cell_type": "code",
   "execution_count": 10,
   "metadata": {},
   "outputs": [
    {
     "data": {
      "text/plain": [
       "['서태윤',\n",
       " '얼굴',\n",
       " '박두만',\n",
       " '여자',\n",
       " '백광호',\n",
       " '조용구',\n",
       " '박해일',\n",
       " '반장',\n",
       " '계속',\n",
       " '순간',\n",
       " '모습',\n",
       " '소현',\n",
       " '하나',\n",
       " '소리',\n",
       " '시작',\n",
       " '범인',\n",
       " '남자',\n",
       " '사람',\n",
       " '표정',\n",
       " '형사',\n",
       " '다시',\n",
       " '뭔가',\n",
       " '권귀옥',\n",
       " '지금',\n",
       " '고개',\n",
       " '잠시',\n",
       " '아이',\n",
       " '보고',\n",
       " '눈빛',\n",
       " '설영',\n",
       " '여기',\n",
       " '얘기',\n",
       " '동네',\n",
       " '화면',\n",
       " '시체',\n",
       " '시선',\n",
       " '사진',\n",
       " '한번',\n",
       " '서류',\n",
       " '위로',\n",
       " '책상',\n",
       " '새끼',\n",
       " '그림자',\n",
       " '멀리',\n",
       " '점점',\n",
       " '머리',\n",
       " '갑자기',\n",
       " '이향숙',\n",
       " '문득',\n",
       " '사건',\n",
       " '발자국',\n",
       " '자기',\n",
       " '가운데',\n",
       " '당신',\n",
       " '아래',\n",
       " '박두',\n",
       " '괴남자',\n",
       " '저기',\n",
       " '스타킹',\n",
       " '그냥',\n",
       " '목소리',\n",
       " '불빛',\n",
       " '사무실',\n",
       " '진짜',\n",
       " '모두',\n",
       " '운동화',\n",
       " '우리',\n",
       " '사이',\n",
       " '용의자',\n",
       " '현장',\n",
       " '조그만',\n",
       " '다른',\n",
       " '생각',\n",
       " '전경',\n",
       " '기차',\n",
       " '마주',\n",
       " '취조실',\n",
       " '바로',\n",
       " '발견',\n",
       " '임마',\n",
       " '잠깐',\n",
       " '박명자',\n",
       " '거기',\n",
       " '음악',\n",
       " '부분',\n",
       " '시점',\n",
       " '간다',\n",
       " '그거',\n",
       " '끄덕',\n",
       " '자리',\n",
       " '버럭',\n",
       " '우산',\n",
       " '변소',\n",
       " '어디',\n",
       " '정말',\n",
       " '잔뜩',\n",
       " '다리',\n",
       " '그대로',\n",
       " '똑바로',\n",
       " '서서히',\n",
       " '가득',\n",
       " '인상',\n",
       " '후레쉬',\n",
       " '너머',\n",
       " '순경',\n",
       " '저녁',\n",
       " '경찰',\n",
       " '훈련',\n",
       " '언덕',\n",
       " '구희봉',\n",
       " '카메라',\n",
       " '주위',\n",
       " '브래지어',\n",
       " '분위기',\n",
       " '아저씨',\n",
       " '구석',\n",
       " '피해자',\n",
       " '그게',\n",
       " '팬티',\n",
       " '어리둥절',\n",
       " '누군가',\n",
       " '라디오',\n",
       " '짜증',\n",
       " '의경',\n",
       " '방송',\n",
       " '빗줄기',\n",
       " '어둠속',\n",
       " '인부',\n",
       " '조병순',\n",
       " '유전자',\n",
       " '바람',\n",
       " '서로',\n",
       " '주변',\n",
       " '참깨밭',\n",
       " '근처',\n",
       " '듯이',\n",
       " '가방',\n",
       " '코피',\n",
       " '휴지',\n",
       " '권기옥',\n",
       " '기억',\n",
       " '자신',\n",
       " '이건',\n",
       " '신문',\n",
       " '조심스레',\n",
       " '빗소리',\n",
       " '빗물',\n",
       " '언덕집',\n",
       " '총구']"
      ]
     },
     "execution_count": 10,
     "metadata": {},
     "output_type": "execute_result"
    }
   ],
   "source": [
    "list(model.wv.index2word)"
   ]
  },
  {
   "cell_type": "markdown",
   "metadata": {},
   "source": [
    "<br></br>\n",
    "## **4 Word2Vec 모델 내용 확인**\n",
    "모델을 활용하여 유력한 범인을 찾아보자!!\n",
    "<img src=\"../data/test.jpg\" width='800'>"
   ]
  },
  {
   "cell_type": "code",
   "execution_count": 11,
   "metadata": {},
   "outputs": [
    {
     "name": "stderr",
     "output_type": "stream",
     "text": [
      "/home/markbaum/Python/nltk/lib/python3.6/site-packages/gensim/matutils.py:737: FutureWarning: Conversion of the second argument of issubdtype from `int` to `np.signedinteger` is deprecated. In future, it will be treated as `np.int64 == np.dtype(int).type`.\n",
      "  if np.issubdtype(vec.dtype, np.int):\n"
     ]
    },
    {
     "data": {
      "text/plain": [
       "[('우리', 0.7865585088729858),\n",
       " ('거기', 0.6849570274353027),\n",
       " ('그냥', 0.6495783925056458),\n",
       " ('얘기', 0.6051825881004333),\n",
       " ('변소', 0.556976318359375),\n",
       " ('여기', 0.5490498542785645),\n",
       " ('그거', 0.5388651490211487),\n",
       " ('당신', 0.5356825590133667),\n",
       " ('목소리', 0.5108311772346497),\n",
       " ('지금', 0.4941055178642273)]"
      ]
     },
     "execution_count": 11,
     "metadata": {},
     "output_type": "execute_result"
    }
   ],
   "source": [
    "# 범인과 관련된 내용 중 사람이름이 안나옴...\n",
    "model.wv.most_similar('범인', topn=10)"
   ]
  },
  {
   "cell_type": "code",
   "execution_count": 12,
   "metadata": {},
   "outputs": [
    {
     "name": "stderr",
     "output_type": "stream",
     "text": [
      "/home/markbaum/Python/nltk/lib/python3.6/site-packages/gensim/matutils.py:737: FutureWarning: Conversion of the second argument of issubdtype from `int` to `np.signedinteger` is deprecated. In future, it will be treated as `np.int64 == np.dtype(int).type`.\n",
      "  if np.issubdtype(vec.dtype, np.int):\n"
     ]
    },
    {
     "data": {
      "text/plain": [
       "[('사진', 0.7624211311340332),\n",
       " ('사건', 0.7531118392944336),\n",
       " ('이향숙', 0.6507235765457153),\n",
       " ('참깨밭', 0.6247075796127319),\n",
       " ('용의자', 0.6074802875518799),\n",
       " ('발자국', 0.5978748798370361),\n",
       " ('박명자', 0.5688067674636841),\n",
       " ('근처', 0.5655137300491333),\n",
       " ('보고', 0.5509800910949707),\n",
       " ('시점', 0.5463540554046631),\n",
       " ('위로', 0.5393446683883667),\n",
       " ('뭔가', 0.5333157777786255),\n",
       " ('서류', 0.5236180424690247),\n",
       " ('우리', 0.5206924676895142),\n",
       " ('바로', 0.5205206871032715),\n",
       " ('자신', 0.5086743831634521),\n",
       " ('경찰', 0.5025227665901184),\n",
       " ('범인', 0.48635903000831604),\n",
       " ('운동화', 0.47943052649497986),\n",
       " ('눈빛', 0.4523496627807617),\n",
       " ('백광호', 0.44758379459381104),\n",
       " ('박두', 0.44246137142181396),\n",
       " ('다른', 0.4404054582118988),\n",
       " ('빗물', 0.43429237604141235),\n",
       " ('동네', 0.43380171060562134),\n",
       " ('박두만', 0.42826181650161743),\n",
       " ('순경', 0.41471391916275024),\n",
       " ('휴지', 0.41173797845840454),\n",
       " ('전경', 0.40328073501586914),\n",
       " ('이건', 0.39376869797706604)]"
      ]
     },
     "execution_count": 12,
     "metadata": {},
     "output_type": "execute_result"
    }
   ],
   "source": [
    "# 현장과 가장 가깝게 등장한 인물이 1명 등장\n",
    "model.wv.most_similar('현장', topn=30)"
   ]
  },
  {
   "cell_type": "code",
   "execution_count": 13,
   "metadata": {},
   "outputs": [
    {
     "name": "stderr",
     "output_type": "stream",
     "text": [
      "/home/markbaum/Python/nltk/lib/python3.6/site-packages/gensim/matutils.py:737: FutureWarning: Conversion of the second argument of issubdtype from `int` to `np.signedinteger` is deprecated. In future, it will be treated as `np.int64 == np.dtype(int).type`.\n",
      "  if np.issubdtype(vec.dtype, np.int):\n"
     ]
    },
    {
     "data": {
      "text/plain": [
       "[('사진', 0.7669464349746704),\n",
       " ('용의자', 0.7378604412078857),\n",
       " ('사건', 0.6748584508895874),\n",
       " ('박두만', 0.6610932350158691),\n",
       " ('뭔가', 0.6300857067108154),\n",
       " ('이향숙', 0.603473424911499),\n",
       " ('박명자', 0.6030692458152771),\n",
       " ('발자국', 0.5998727083206177),\n",
       " ('서류', 0.5618202686309814),\n",
       " ('조용구', 0.5536451935768127),\n",
       " ('보고', 0.553490161895752),\n",
       " ('휴지', 0.550575315952301),\n",
       " ('얼굴', 0.534464418888092),\n",
       " ('참깨밭', 0.5263034105300903),\n",
       " ('근처', 0.5258156061172485),\n",
       " ('운동화', 0.5036986470222473),\n",
       " ('똑바로', 0.48997318744659424),\n",
       " ('자신', 0.4897308349609375),\n",
       " ('표정', 0.4776860773563385),\n",
       " ('잔뜩', 0.4768100380897522)]"
      ]
     },
     "execution_count": 13,
     "metadata": {},
     "output_type": "execute_result"
    }
   ],
   "source": [
    "# 현장 과 백광호 와 밀접한 증거들 중에 방해가 되는 내용을 찾는다\n",
    "model.wv.most_similar(['현장','백광호'], topn=20)"
   ]
  },
  {
   "cell_type": "code",
   "execution_count": 14,
   "metadata": {},
   "outputs": [
    {
     "name": "stderr",
     "output_type": "stream",
     "text": [
      "/home/markbaum/Python/nltk/lib/python3.6/site-packages/gensim/matutils.py:737: FutureWarning: Conversion of the second argument of issubdtype from `int` to `np.signedinteger` is deprecated. In future, it will be treated as `np.int64 == np.dtype(int).type`.\n",
      "  if np.issubdtype(vec.dtype, np.int):\n"
     ]
    },
    {
     "data": {
      "text/plain": [
       "[('용의자', 0.6298692226409912),\n",
       " ('사진', 0.5734076499938965),\n",
       " ('똑바로', 0.5540914535522461),\n",
       " ('얼굴', 0.508164644241333),\n",
       " ('보고', 0.4970995783805847),\n",
       " ('사건', 0.49044185876846313),\n",
       " ('서류', 0.48188555240631104),\n",
       " ('박해일', 0.47131142020225525),\n",
       " ('박두만', 0.45509785413742065),\n",
       " ('구희봉', 0.45389503240585327),\n",
       " ('박명자', 0.42978203296661377),\n",
       " ('임마', 0.42314696311950684),\n",
       " ('잠시', 0.4125210642814636),\n",
       " ('서태윤', 0.4119667410850525),\n",
       " ('뭔가', 0.4035834074020386),\n",
       " ('조용구', 0.40272825956344604),\n",
       " ('다리', 0.40199974179267883),\n",
       " ('시점', 0.401559978723526),\n",
       " ('그대로', 0.39520251750946045),\n",
       " ('휴지', 0.385613352060318)]"
      ]
     },
     "execution_count": 14,
     "metadata": {},
     "output_type": "execute_result"
    }
   ],
   "source": [
    "# 현장 과 백광호 와 밀접한 증거들 중에 '참깨밭' 이 계속 방해가 됨\n",
    "# 참깨밭에 백광호가 밀접하게 연결되어 있어서 이를 제외한 분석이 필요\n",
    "model.wv.most_similar(['현장','백광호'], negative=['참깨밭'], topn=20)"
   ]
  },
  {
   "cell_type": "markdown",
   "metadata": {},
   "source": [
    "<br></br>\n",
    "## **5 Visulaization**\n",
    "gensim"
   ]
  },
  {
   "cell_type": "code",
   "execution_count": 15,
   "metadata": {},
   "outputs": [
    {
     "data": {
      "text/plain": [
       "['박두만', '서태윤', '조용구', '권귀옥', '구희봉', '백광호', '박해일', '용의자', '남자', '동네']"
      ]
     },
     "execution_count": 15,
     "metadata": {},
     "output_type": "execute_result"
    }
   ],
   "source": [
    "list(model.wv.vocab.keys())[:10]"
   ]
  },
  {
   "cell_type": "code",
   "execution_count": 16,
   "metadata": {},
   "outputs": [],
   "source": [
    "# 같은 벡터의 데이터 끼지 색을 일치시킨다\n",
    "labels, tokens = [], []\n",
    "\n",
    "for word in model.wv.vocab:\n",
    "    tokens.append(model.wv[word])\n",
    "    labels.append(word)"
   ]
  },
  {
   "cell_type": "code",
   "execution_count": 17,
   "metadata": {},
   "outputs": [
    {
     "name": "stdout",
     "output_type": "stream",
     "text": [
      "Variable     Type        Data/Info\n",
      "----------------------------------\n",
      "labels       list        n=149\n",
      "model        Word2Vec    Word2Vec(vocab=149, size=30, alpha=0.025)\n",
      "model_file   str         ../data/mom_script.model\n",
      "tokens       list        n=149\n",
      "word         str         총구\n",
      "word2vec     module      <module 'gensim.models.wo<...>nsim/models/word2vec.py'>\n"
     ]
    }
   ],
   "source": [
    "%whos"
   ]
  },
  {
   "cell_type": "code",
   "execution_count": 18,
   "metadata": {},
   "outputs": [],
   "source": [
    "from sklearn.manifold import TSNE\n",
    "tsne_model = TSNE(n_components=2)#, perplexity=40, init='pca', n_iter=1500, random_state=23)\n",
    "new_values = tsne_model.fit_transform(tokens)"
   ]
  },
  {
   "cell_type": "code",
   "execution_count": 19,
   "metadata": {},
   "outputs": [
    {
     "data": {
      "text/html": [
       "<div>\n",
       "<style scoped>\n",
       "    .dataframe tbody tr th:only-of-type {\n",
       "        vertical-align: middle;\n",
       "    }\n",
       "\n",
       "    .dataframe tbody tr th {\n",
       "        vertical-align: top;\n",
       "    }\n",
       "\n",
       "    .dataframe thead th {\n",
       "        text-align: right;\n",
       "    }\n",
       "</style>\n",
       "<table border=\"1\" class=\"dataframe\">\n",
       "  <thead>\n",
       "    <tr style=\"text-align: right;\">\n",
       "      <th></th>\n",
       "      <th>x</th>\n",
       "      <th>y</th>\n",
       "    </tr>\n",
       "  </thead>\n",
       "  <tbody>\n",
       "    <tr>\n",
       "      <th>박두만</th>\n",
       "      <td>0.382489</td>\n",
       "      <td>-0.920999</td>\n",
       "    </tr>\n",
       "    <tr>\n",
       "      <th>서태윤</th>\n",
       "      <td>0.050657</td>\n",
       "      <td>-0.816963</td>\n",
       "    </tr>\n",
       "    <tr>\n",
       "      <th>조용구</th>\n",
       "      <td>-0.011590</td>\n",
       "      <td>-0.974972</td>\n",
       "    </tr>\n",
       "    <tr>\n",
       "      <th>권귀옥</th>\n",
       "      <td>-0.434078</td>\n",
       "      <td>-2.002993</td>\n",
       "    </tr>\n",
       "    <tr>\n",
       "      <th>구희봉</th>\n",
       "      <td>-3.076876</td>\n",
       "      <td>-1.599230</td>\n",
       "    </tr>\n",
       "  </tbody>\n",
       "</table>\n",
       "</div>"
      ],
      "text/plain": [
       "            x         y\n",
       "박두만  0.382489 -0.920999\n",
       "서태윤  0.050657 -0.816963\n",
       "조용구 -0.011590 -0.974972\n",
       "권귀옥 -0.434078 -2.002993\n",
       "구희봉 -3.076876 -1.599230"
      ]
     },
     "execution_count": 19,
     "metadata": {},
     "output_type": "execute_result"
    }
   ],
   "source": [
    "import pandas as pd\n",
    "df = pd.DataFrame(new_values, \n",
    "                  index   = labels, \n",
    "                  columns = ['x', 'y'])\n",
    "df.head()"
   ]
  },
  {
   "cell_type": "code",
   "execution_count": 24,
   "metadata": {},
   "outputs": [
    {
     "data": {
      "image/png": "[encoded data removed]",
      "text/plain": [
       "<Figure size 864x864 with 1 Axes>"
      ]
     },
     "metadata": {},
     "output_type": "display_data"
    }
   ],
   "source": [
    "%matplotlib inline\n",
    "import matplotlib.pyplot as plt\n",
    "from matplotlib import rc\n",
    "rc('font', family=['NanumGothic','Malgun Gothic'])\n",
    "plt.figure(figsize=(12,12)) \n",
    "\n",
    "for i in range(len(df)):\n",
    "    plt.scatter(df['x'][i],df['y'][i])\n",
    "    plt.annotate(df.index[i],\n",
    "                 xy = (df['x'][i], df['y'][i]),\n",
    "                 xytext = (5, 2),\n",
    "                 fontsize = 13,\n",
    "                 textcoords = 'offset points',\n",
    "                 ha = 'right',\n",
    "                 va = 'bottom')\n",
    "plt.grid()\n",
    "plt.show()"
   ]
  },
  {
   "cell_type": "markdown",
   "metadata": {},
   "source": [
    "<br></br>\n",
    "## **6 결과의 해석 및 활용**\n",
    "1. 유사관계, 반대관계로 **출력된 모든 Token들이 가치가 있지는 않다**\n",
    "1. **min_count, Vector 갯수** 2가지 조건만 사용하여 모델을 생성한다\n",
    "1. Word2Vec 도 **문서를 분석하는 도구**에 불과 (절대적 **가치를 창출하는 기법** 으로 오해 X)\n",
    "1. 해당 분야의 **잘 정리된 Document로 학습한 Word2Vec 모델** 에서 **유의미 한 token 들의 관계** 를 Template으로 잘 정리\n",
    "1. 분석대상 문서를 **유사한 조건으로 word2vec 모델** 을 만들고, **앞에서 정리된 Template와** 비교하여 결과\n",
    "다듬기\n",
    "1. 시나리오의 분석 경우\n",
    "    1. 결과물 중 인물의 Token 만 활용하여 분석\n",
    "    1. 결과물 중 증거물의 Token 만 활용하여 분석\n",
    "    1. 결과물 중 장소의 Token 만 활용하여 분석"
   ]
  },
  {
   "cell_type": "code",
   "execution_count": 21,
   "metadata": {},
   "outputs": [],
   "source": [
    "# model 에 등장하는 인물들\n",
    "charator = [\"박두만\", \"서태윤\", \"조용구\", \"권귀옥\", \"구희봉\", \"신동철\", \"백광호\",\n",
    "            \"조병순\", \"박해일\", \"박보희\", \"이향숙\", \"독고현순\", \"박명자\", \"안미선\", \n",
    "            \"반장\", \"소현\", \"범인\", \"형사\", '괴남자', '순경','피해자', '권기옥','용의자']"
   ]
  },
  {
   "cell_type": "code",
   "execution_count": 22,
   "metadata": {},
   "outputs": [],
   "source": [
    "# model 에 등장하는 장소명 들\n",
    "area = ['현장', '사무실', '취조실', '변소', '참깨밭', '빗줄기', '어둠속', '언덕집']"
   ]
  },
  {
   "cell_type": "code",
   "execution_count": 23,
   "metadata": {},
   "outputs": [],
   "source": [
    "# model 에 등장하는 Item 들\n",
    "items = ['브래지어', '팬티', '우산', '운동화', '스타킹', '목소리', '불빛', '음악', '후레쉬', \n",
    "         '카메라', '라디오', '방송', '유전자', '가방', '코피', '휴지', '신문', '총구']"
   ]
  }
 ],
 "metadata": {
  "kernelspec": {
   "display_name": "Python 3",
   "language": "python",
   "name": "python3"
  },
  "language_info": {
   "codemirror_mode": {
    "name": "ipython",
    "version": 3
   },
   "file_extension": ".py",
   "mimetype": "text/x-python",
   "name": "python",
   "nbconvert_exporter": "python",
   "pygments_lexer": "ipython3",
   "version": "3.6.3"
  }
 },
 "nbformat": 4,
 "nbformat_minor": 2
}
