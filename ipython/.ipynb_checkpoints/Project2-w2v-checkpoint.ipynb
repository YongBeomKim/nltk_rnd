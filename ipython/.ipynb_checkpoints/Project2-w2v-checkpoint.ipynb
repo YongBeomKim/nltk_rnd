{
 "cells": [
  {
   "cell_type": "markdown",
   "metadata": {},
   "source": [
    "<br></br>\n",
    "# **Project4 | word2vec**\n",
    "<br></br>\n",
    "## **1 데이터 전처리**"
   ]
  },
  {
   "cell_type": "code",
   "execution_count": 1,
   "metadata": {},
   "outputs": [
    {
     "data": {
      "text/plain": [
       "'박두만\\n서태윤\\n조용구\\n권귀옥\\n구희봉\\n신동철\\n백광호20대 초반. 정박아\\n조병순30대 후반. 변태성향\\n박해일20대 초반. 공장 노동자. ‘유력한 용의자’.\\n선본 남자, 동네 양아치들... 등등\\n30대 초반의 전직 간호조무사, 마을 ‘야매주사’ 여인.\\n안송여중 1학년 학생\\n소현의 단짝 친구\\n박보희, 이향숙, 독고현순, 박명자, 안미선.\\n화면 가득 한 남자 아이의 얼굴이 보여진다.\\n쏟아지는 햇살 아래, 맑은 눈빛의 아이는 카메라 정면을 응시하고 있다.\\n아이는 코스모스 위에 앉아있는 잠자리를 향해 살며시 손을 뻗는다.\\n휙~ 잠자리가 날아가 버리면 ... 끝없이 펼쳐진 가을 논과 푸른 하늘이 보인다.\\n어렴풋이 들려오는 기계소리에 아이가 고개를 돌리면, 저 멀리 경운기 한 대가 오는 것이 보인다. 점점 커지는 소리와 함께, 경운기를 운전하는 노인네와 뒷칸에 \\n올라 탄 한 남자의 모습이 보인다.\\n스포츠 머리에 건달같은 인상을 풍기는 30대 남자 ... 형사 박두만이다.\\n경운기를 세운 노인은 소리를'"
      ]
     },
     "execution_count": 1,
     "metadata": {},
     "output_type": "execute_result"
    }
   ],
   "source": [
    "# 살인의 추억 텍스트 불러오기\n",
    "filename = '../data/movie_memories_of_murder_2003.txt'\n",
    "with open(filename, 'r') as f:\n",
    "    texts = f.read()\n",
    "texts[:500]"
   ]
  },
  {
   "cell_type": "code",
   "execution_count": 2,
   "metadata": {},
   "outputs": [
    {
     "name": "stdout",
     "output_type": "stream",
     "text": [
      "CPU times: user 10.9 s, sys: 134 ms, total: 11.1 s\n",
      "Wall time: 5.6 s\n"
     ]
    },
    {
     "data": {
      "text/plain": [
       "'박두만\\n 서태윤\\n 조용구\\n 권귀옥\\n 구희봉\\n 신동철\\n 백광호 초반 정박\\n 조병순대 후반 변태성향\\n 박해일 초반 공장 노동자 유력 용의자\\n 선본 남자 동네 양아치 등등\\n 초반 전직 간호조무사 마을 야매주사 여인\\n 안송여중 학년 학생\\n 소현 단짝 친구\\n 박보희 이향숙 독고현순 박명자 안미선\\n 화면 가득 남자 아이 얼굴\\n 햇살 아래 맑은 눈빛 아이 카메라 정면 응시\\n 아이 코스모스 잠자리\\n 잠자리 가을 푸른 하늘\\n 기계소리 아이 고개 멀리 경운기 대가 점점 소리 경운기 운전 노인 뒷칸\\n 남자 모습\\n 스포츠 머리 건달 인상 풍기 남자 형사 박두만\\n 경운기 세운 노인 소리 아이 아이 아랑곳 노인 박두 안내 농수로 배수관\\n 화면 등장 여자 시체\\n 배수관 어두운 구멍 나체 여자 시신\\n 미니 후레쉬 주머니 여자 얼굴 박두만\\n 여자 순간 안광이 번뜩\\n 위로 파리 개미 토사물 거기 핏자국 새소리 햇살아래 하늘거리 코스모스\\n 무덤덤 여자 박보희 시체 뭔가 생경 느낌\\n 언제 주위 동네 아이\\n 녀석 여자 '"
      ]
     },
     "execution_count": 2,
     "metadata": {},
     "output_type": "execute_result"
    }
   ],
   "source": [
    "from txtutil import txtnoun\n",
    "skips = {'두만':'박두만', '태윤':'서태윤', '용구':'조용구', '귀옥':'권귀옥', \n",
    "         '희봉':'구희봉', '동철':'신동철', '광호':'백광호', '병순':'조병순', \n",
    "         '해일':'박해일', '광호의':'백광호', '백광호의':'백광호'}\n",
    "%time texts  = txtnoun(filename, skip=skips, tags=['Noun'])\n",
    "texts[:500]"
   ]
  },
  {
   "cell_type": "code",
   "execution_count": 3,
   "metadata": {},
   "outputs": [],
   "source": [
    "# 명사 Token 작업된 자료를 ssResport.txt 로 저장 \n",
    "texts_file = '../data/mom_noun_script.txt'\n",
    "with open(texts_file, 'w', encoding='utf-8') as file:\n",
    "    file.write(texts)"
   ]
  },
  {
   "cell_type": "code",
   "execution_count": 4,
   "metadata": {},
   "outputs": [],
   "source": [
    "# ! cat ./data/ssResport.txt | head -n 10"
   ]
  },
  {
   "cell_type": "markdown",
   "metadata": {},
   "source": [
    "<br></br>\n",
    "## **2 Word 2 vec 객체 만들기**\n",
    "gensim"
   ]
  },
  {
   "cell_type": "code",
   "execution_count": 5,
   "metadata": {},
   "outputs": [],
   "source": [
    "# ! pip3 install gensim"
   ]
  },
  {
   "cell_type": "code",
   "execution_count": 6,
   "metadata": {},
   "outputs": [
    {
     "name": "stdout",
     "output_type": "stream",
     "text": [
      "model saved.\n",
      "CPU times: user 3.11 s, sys: 173 ms, total: 3.28 s\n",
      "Wall time: 3.23 s\n"
     ]
    }
   ],
   "source": [
    "%%time\n",
    "texts_file = '../data/mom_noun_script.txt'\n",
    "\n",
    "from gensim.models import word2vec\n",
    "data  = word2vec.LineSentence(texts_file)\n",
    "model = word2vec.Word2Vec(data, size=30, window=2, min_count=10, hs=1,\n",
    "                          workers=4, iter=100, sg=1)\n",
    "model.save(\"../data/mom_script.model\")\n",
    "print(\"model saved.\")"
   ]
  },
  {
   "cell_type": "markdown",
   "metadata": {},
   "source": [
    "<br></br>\n",
    "## **3 저장된 모델 불러오기 및 확인**\n",
    "gensim"
   ]
  },
  {
   "cell_type": "code",
   "execution_count": 7,
   "metadata": {},
   "outputs": [
    {
     "name": "stdout",
     "output_type": "stream",
     "text": [
      "Once deleted, variables cannot be recovered. Proceed (y/[n])? y\n"
     ]
    }
   ],
   "source": [
    "%reset"
   ]
  },
  {
   "cell_type": "code",
   "execution_count": 8,
   "metadata": {},
   "outputs": [
    {
     "name": "stdout",
     "output_type": "stream",
     "text": [
      "Interactive namespace is empty.\n"
     ]
    }
   ],
   "source": [
    "%who"
   ]
  },
  {
   "cell_type": "code",
   "execution_count": 10,
   "metadata": {},
   "outputs": [
    {
     "data": {
      "text/plain": [
       "149"
      ]
     },
     "execution_count": 10,
     "metadata": {},
     "output_type": "execute_result"
    }
   ],
   "source": [
    "from gensim.models import word2vec\n",
    "model = word2vec.Word2Vec.load('../data/mom_script.model')\n",
    "len(model.wv.vocab.keys())"
   ]
  },
  {
   "cell_type": "code",
   "execution_count": 11,
   "metadata": {},
   "outputs": [
    {
     "data": {
      "text/plain": [
       "['서태윤',\n",
       " '얼굴',\n",
       " '박두만',\n",
       " '여자',\n",
       " '백광호',\n",
       " '조용구',\n",
       " '박해일',\n",
       " '반장',\n",
       " '계속',\n",
       " '순간',\n",
       " '모습',\n",
       " '소현',\n",
       " '하나',\n",
       " '소리',\n",
       " '시작',\n",
       " '범인',\n",
       " '남자',\n",
       " '사람',\n",
       " '표정',\n",
       " '형사',\n",
       " '다시',\n",
       " '뭔가',\n",
       " '권귀옥',\n",
       " '지금',\n",
       " '고개',\n",
       " '잠시',\n",
       " '아이',\n",
       " '보고',\n",
       " '눈빛',\n",
       " '설영',\n",
       " '여기',\n",
       " '얘기',\n",
       " '동네',\n",
       " '화면',\n",
       " '시체',\n",
       " '시선',\n",
       " '사진',\n",
       " '한번',\n",
       " '서류',\n",
       " '위로',\n",
       " '책상',\n",
       " '새끼',\n",
       " '그림자',\n",
       " '멀리',\n",
       " '점점',\n",
       " '머리',\n",
       " '갑자기',\n",
       " '이향숙',\n",
       " '문득',\n",
       " '사건',\n",
       " '발자국',\n",
       " '자기',\n",
       " '가운데',\n",
       " '당신',\n",
       " '아래',\n",
       " '박두',\n",
       " '괴남자',\n",
       " '저기',\n",
       " '스타킹',\n",
       " '그냥',\n",
       " '목소리',\n",
       " '불빛',\n",
       " '사무실',\n",
       " '진짜',\n",
       " '모두',\n",
       " '운동화',\n",
       " '우리',\n",
       " '사이',\n",
       " '용의자',\n",
       " '현장',\n",
       " '조그만',\n",
       " '다른',\n",
       " '생각',\n",
       " '전경',\n",
       " '기차',\n",
       " '마주',\n",
       " '취조실',\n",
       " '바로',\n",
       " '발견',\n",
       " '임마',\n",
       " '잠깐',\n",
       " '박명자',\n",
       " '거기',\n",
       " '음악',\n",
       " '부분',\n",
       " '시점',\n",
       " '간다',\n",
       " '그거',\n",
       " '끄덕',\n",
       " '자리',\n",
       " '버럭',\n",
       " '우산',\n",
       " '변소',\n",
       " '어디',\n",
       " '정말',\n",
       " '잔뜩',\n",
       " '다리',\n",
       " '그대로',\n",
       " '똑바로',\n",
       " '서서히',\n",
       " '가득',\n",
       " '인상',\n",
       " '후레쉬',\n",
       " '너머',\n",
       " '순경',\n",
       " '저녁',\n",
       " '경찰',\n",
       " '훈련',\n",
       " '언덕',\n",
       " '구희봉',\n",
       " '카메라',\n",
       " '주위',\n",
       " '브래지어',\n",
       " '분위기',\n",
       " '아저씨',\n",
       " '구석',\n",
       " '피해자',\n",
       " '그게',\n",
       " '팬티',\n",
       " '어리둥절',\n",
       " '누군가',\n",
       " '라디오',\n",
       " '짜증',\n",
       " '의경',\n",
       " '방송',\n",
       " '빗줄기',\n",
       " '어둠속',\n",
       " '인부',\n",
       " '조병순',\n",
       " '유전자',\n",
       " '바람',\n",
       " '서로',\n",
       " '주변',\n",
       " '참깨밭',\n",
       " '근처',\n",
       " '듯이',\n",
       " '가방',\n",
       " '코피',\n",
       " '휴지',\n",
       " '권기옥',\n",
       " '기억',\n",
       " '자신',\n",
       " '이건',\n",
       " '신문',\n",
       " '조심스레',\n",
       " '빗소리',\n",
       " '빗물',\n",
       " '언덕집',\n",
       " '총구']"
      ]
     },
     "execution_count": 11,
     "metadata": {},
     "output_type": "execute_result"
    }
   ],
   "source": [
    "list(model.wv.index2word)"
   ]
  },
  {
   "cell_type": "markdown",
   "metadata": {},
   "source": [
    "<br></br>\n",
    "## **4 Word2Vec 모델 내용 확인**\n",
    "gensim"
   ]
  },
  {
   "cell_type": "code",
   "execution_count": 12,
   "metadata": {},
   "outputs": [
    {
     "name": "stderr",
     "output_type": "stream",
     "text": [
      "/home/markbaum/Python/nltk/lib/python3.6/site-packages/gensim/matutils.py:737: FutureWarning: Conversion of the second argument of issubdtype from `int` to `np.signedinteger` is deprecated. In future, it will be treated as `np.int64 == np.dtype(int).type`.\n",
      "  if np.issubdtype(vec.dtype, np.int):\n"
     ]
    },
    {
     "data": {
      "text/plain": [
       "[('우리', 0.7953020334243774),\n",
       " ('거기', 0.6793814897537231),\n",
       " ('그냥', 0.6685342192649841),\n",
       " ('그거', 0.5557864904403687),\n",
       " ('변소', 0.5535510182380676),\n",
       " ('현장', 0.5436304807662964),\n",
       " ('여기', 0.54031902551651),\n",
       " ('목소리', 0.5313534140586853),\n",
       " ('얘기', 0.5307495594024658),\n",
       " ('한번', 0.4940391182899475)]"
      ]
     },
     "execution_count": 12,
     "metadata": {},
     "output_type": "execute_result"
    }
   ],
   "source": [
    "model.wv.most_similar(positive=['범인'])"
   ]
  },
  {
   "cell_type": "code",
   "execution_count": 13,
   "metadata": {},
   "outputs": [
    {
     "name": "stderr",
     "output_type": "stream",
     "text": [
      "/home/markbaum/Python/nltk/lib/python3.6/site-packages/gensim/matutils.py:737: FutureWarning: Conversion of the second argument of issubdtype from `int` to `np.signedinteger` is deprecated. In future, it will be treated as `np.int64 == np.dtype(int).type`.\n",
      "  if np.issubdtype(vec.dtype, np.int):\n"
     ]
    },
    {
     "data": {
      "text/plain": [
       "[('어리둥절', 0.1834232360124588),\n",
       " ('박해일', 0.14483670890331268),\n",
       " ('괴남자', 0.09522774815559387),\n",
       " ('형사', 0.09233930706977844),\n",
       " ('시선', 0.07092669606208801),\n",
       " ('점점', 0.030104026198387146),\n",
       " ('인부', 0.02276673913002014),\n",
       " ('잔뜩', 0.01463848352432251),\n",
       " ('끄덕', 0.010246552526950836),\n",
       " ('화면', 0.010068412870168686)]"
      ]
     },
     "execution_count": 13,
     "metadata": {},
     "output_type": "execute_result"
    }
   ],
   "source": [
    "model.wv.most_similar(negative=['범인'])"
   ]
  },
  {
   "cell_type": "code",
   "execution_count": 14,
   "metadata": {},
   "outputs": [
    {
     "name": "stderr",
     "output_type": "stream",
     "text": [
      "/home/markbaum/Python/nltk/lib/python3.6/site-packages/gensim/matutils.py:737: FutureWarning: Conversion of the second argument of issubdtype from `int` to `np.signedinteger` is deprecated. In future, it will be treated as `np.int64 == np.dtype(int).type`.\n",
      "  if np.issubdtype(vec.dtype, np.int):\n"
     ]
    },
    {
     "data": {
      "text/plain": [
       "[('이향숙', 0.7057462930679321),\n",
       " ('참깨밭', 0.6823617815971375),\n",
       " ('발견', 0.6196905970573425),\n",
       " ('의경', 0.613141655921936),\n",
       " ('순경', 0.6124307513237),\n",
       " ('새끼', 0.5869998931884766),\n",
       " ('스타킹', 0.5452426075935364),\n",
       " ('정말', 0.5385268926620483),\n",
       " ('주위', 0.5318937301635742),\n",
       " ('주변', 0.5291891098022461)]"
      ]
     },
     "execution_count": 14,
     "metadata": {},
     "output_type": "execute_result"
    }
   ],
   "source": [
    "model.wv.most_similar(positive=['피해자'])"
   ]
  },
  {
   "cell_type": "code",
   "execution_count": 15,
   "metadata": {},
   "outputs": [
    {
     "name": "stderr",
     "output_type": "stream",
     "text": [
      "/home/markbaum/Python/nltk/lib/python3.6/site-packages/gensim/matutils.py:737: FutureWarning: Conversion of the second argument of issubdtype from `int` to `np.signedinteger` is deprecated. In future, it will be treated as `np.int64 == np.dtype(int).type`.\n",
      "  if np.issubdtype(vec.dtype, np.int):\n"
     ]
    },
    {
     "data": {
      "text/plain": [
       "[('너머', 0.2246856987476349),\n",
       " ('총구', 0.21296781301498413),\n",
       " ('보고', 0.13748009502887726),\n",
       " ('라디오', 0.12596842646598816),\n",
       " ('그대로', 0.122005395591259),\n",
       " ('짜증', 0.10772301256656647),\n",
       " ('기차', 0.09845026582479477),\n",
       " ('분위기', 0.057864945381879807),\n",
       " ('빗물', 0.056360237300395966),\n",
       " ('책상', 0.05550672113895416)]"
      ]
     },
     "execution_count": 15,
     "metadata": {},
     "output_type": "execute_result"
    }
   ],
   "source": [
    "model.wv.most_similar(negative=['피해자'])"
   ]
  },
  {
   "cell_type": "code",
   "execution_count": 16,
   "metadata": {},
   "outputs": [
    {
     "name": "stderr",
     "output_type": "stream",
     "text": [
      "/home/markbaum/Python/nltk/lib/python3.6/site-packages/gensim/matutils.py:737: FutureWarning: Conversion of the second argument of issubdtype from `int` to `np.signedinteger` is deprecated. In future, it will be treated as `np.int64 == np.dtype(int).type`.\n",
      "  if np.issubdtype(vec.dtype, np.int):\n"
     ]
    },
    {
     "data": {
      "text/plain": [
       "[('서태윤', 0.7209802865982056),\n",
       " ('백광호', 0.7209338545799255),\n",
       " ('뭔가', 0.6566252708435059),\n",
       " ('휴지', 0.6552422046661377),\n",
       " ('어리둥절', 0.6430181264877319),\n",
       " ('박해일', 0.6039513349533081),\n",
       " ('반장', 0.6037085056304932),\n",
       " ('조용구', 0.596311628818512),\n",
       " ('듯이', 0.5870459079742432),\n",
       " ('고개', 0.5852392911911011)]"
      ]
     },
     "execution_count": 16,
     "metadata": {},
     "output_type": "execute_result"
    }
   ],
   "source": [
    "model.wv.most_similar(positive=['박두만'])"
   ]
  },
  {
   "cell_type": "code",
   "execution_count": 17,
   "metadata": {
    "scrolled": false
   },
   "outputs": [
    {
     "name": "stderr",
     "output_type": "stream",
     "text": [
      "/home/markbaum/Python/nltk/lib/python3.6/site-packages/gensim/matutils.py:737: FutureWarning: Conversion of the second argument of issubdtype from `int` to `np.signedinteger` is deprecated. In future, it will be treated as `np.int64 == np.dtype(int).type`.\n",
      "  if np.issubdtype(vec.dtype, np.int):\n"
     ]
    },
    {
     "data": {
      "text/plain": [
       "[('박두만', 0.7209804058074951),\n",
       " ('서서히', 0.6878617405891418),\n",
       " ('권귀옥', 0.6766675114631653),\n",
       " ('박해일', 0.668883204460144),\n",
       " ('순간', 0.6375299692153931),\n",
       " ('백광호', 0.6356495022773743),\n",
       " ('취조실', 0.6212918162345886),\n",
       " ('그대로', 0.5891724824905396),\n",
       " ('마주', 0.5842323899269104),\n",
       " ('다시', 0.5829925537109375)]"
      ]
     },
     "execution_count": 17,
     "metadata": {},
     "output_type": "execute_result"
    }
   ],
   "source": [
    "model.wv.most_similar(positive=['서태윤'])"
   ]
  },
  {
   "cell_type": "code",
   "execution_count": 18,
   "metadata": {
    "scrolled": false
   },
   "outputs": [
    {
     "name": "stderr",
     "output_type": "stream",
     "text": [
      "/home/markbaum/Python/nltk/lib/python3.6/site-packages/gensim/matutils.py:737: FutureWarning: Conversion of the second argument of issubdtype from `int` to `np.signedinteger` is deprecated. In future, it will be treated as `np.int64 == np.dtype(int).type`.\n",
      "  if np.issubdtype(vec.dtype, np.int):\n"
     ]
    },
    {
     "data": {
      "text/plain": [
       "[('백광호', 0.7008955478668213),\n",
       " ('구희봉', 0.6497987508773804),\n",
       " ('보고', 0.6282637119293213),\n",
       " ('박두만', 0.596311628818512),\n",
       " ('갑자기', 0.5918307900428772),\n",
       " ('짜증', 0.590636134147644),\n",
       " ('다른', 0.5836162567138672),\n",
       " ('자리', 0.5695558190345764),\n",
       " ('서태윤', 0.5621036887168884),\n",
       " ('사무실', 0.556728184223175)]"
      ]
     },
     "execution_count": 18,
     "metadata": {},
     "output_type": "execute_result"
    }
   ],
   "source": [
    "model.wv.most_similar(positive=['조용구'])"
   ]
  },
  {
   "cell_type": "code",
   "execution_count": 19,
   "metadata": {},
   "outputs": [
    {
     "name": "stderr",
     "output_type": "stream",
     "text": [
      "/home/markbaum/Python/nltk/lib/python3.6/site-packages/gensim/matutils.py:737: FutureWarning: Conversion of the second argument of issubdtype from `int` to `np.signedinteger` is deprecated. In future, it will be treated as `np.int64 == np.dtype(int).type`.\n",
      "  if np.issubdtype(vec.dtype, np.int):\n"
     ]
    },
    {
     "data": {
      "text/plain": [
       "[('백광호', 0.7312123775482178),\n",
       " ('박해일', 0.6860709190368652),\n",
       " ('뭔가', 0.6601147651672363),\n",
       " ('휴지', 0.6537829637527466),\n",
       " ('순간', 0.6468037366867065),\n",
       " ('고개', 0.629467248916626),\n",
       " ('조용구', 0.624397873878479),\n",
       " ('반장', 0.6172719597816467),\n",
       " ('어리둥절', 0.6131389737129211),\n",
       " ('얼굴', 0.5961816310882568)]"
      ]
     },
     "execution_count": 19,
     "metadata": {},
     "output_type": "execute_result"
    }
   ],
   "source": [
    "model.wv.most_similar(positive=['박두만','서태윤'])"
   ]
  },
  {
   "cell_type": "code",
   "execution_count": 20,
   "metadata": {},
   "outputs": [
    {
     "name": "stderr",
     "output_type": "stream",
     "text": [
      "/home/markbaum/Python/nltk/lib/python3.6/site-packages/gensim/matutils.py:737: FutureWarning: Conversion of the second argument of issubdtype from `int` to `np.signedinteger` is deprecated. In future, it will be treated as `np.int64 == np.dtype(int).type`.\n",
      "  if np.issubdtype(vec.dtype, np.int):\n"
     ]
    },
    {
     "data": {
      "text/plain": [
       "[('박해일', 0.6410254240036011),\n",
       " ('휴지', 0.612236499786377),\n",
       " ('총구', 0.604760468006134),\n",
       " ('그대로', 0.5917906165122986),\n",
       " ('듯이', 0.5811151266098022),\n",
       " ('보고', 0.5802760124206543),\n",
       " ('코피', 0.5463087558746338),\n",
       " ('반장', 0.543189287185669),\n",
       " ('백광호', 0.5416773557662964),\n",
       " ('서서히', 0.5309703350067139)]"
      ]
     },
     "execution_count": 20,
     "metadata": {},
     "output_type": "execute_result"
    }
   ],
   "source": [
    "model.wv.most_similar(positive=['박두만','서태윤'],\n",
    "                      negative=['피해자'])"
   ]
  },
  {
   "cell_type": "code",
   "execution_count": 21,
   "metadata": {},
   "outputs": [
    {
     "name": "stderr",
     "output_type": "stream",
     "text": [
      "/home/markbaum/Python/nltk/lib/python3.6/site-packages/gensim/matutils.py:737: FutureWarning: Conversion of the second argument of issubdtype from `int` to `np.signedinteger` is deprecated. In future, it will be treated as `np.int64 == np.dtype(int).type`.\n",
      "  if np.issubdtype(vec.dtype, np.int):\n"
     ]
    },
    {
     "data": {
      "text/plain": [
       "[('자리', 0.6748197674751282),\n",
       " ('반장', 0.6658869981765747),\n",
       " ('구석', 0.638270914554596),\n",
       " ('짜증', 0.6206353902816772),\n",
       " ('휴지', 0.6203479766845703),\n",
       " ('뭔가', 0.6149483323097229),\n",
       " ('코피', 0.6149161458015442),\n",
       " ('인부', 0.5945912003517151),\n",
       " ('조용구', 0.5787459015846252),\n",
       " ('표정', 0.5771318078041077)]"
      ]
     },
     "execution_count": 21,
     "metadata": {},
     "output_type": "execute_result"
    }
   ],
   "source": [
    "model.wv.most_similar(positive=['박두만','서태윤'],\n",
    "                      negative=['박해일'])"
   ]
  },
  {
   "cell_type": "code",
   "execution_count": 22,
   "metadata": {},
   "outputs": [
    {
     "name": "stderr",
     "output_type": "stream",
     "text": [
      "/home/markbaum/Python/nltk/lib/python3.6/site-packages/gensim/matutils.py:737: FutureWarning: Conversion of the second argument of issubdtype from `int` to `np.signedinteger` is deprecated. In future, it will be treated as `np.int64 == np.dtype(int).type`.\n",
      "  if np.issubdtype(vec.dtype, np.int):\n"
     ]
    },
    {
     "data": {
      "text/plain": [
       "[('박해일', 0.7118382453918457),\n",
       " ('어리둥절', 0.6632732152938843),\n",
       " ('백광호', 0.6135016679763794),\n",
       " ('고개', 0.5873621702194214),\n",
       " ('순간', 0.5841071605682373),\n",
       " ('조용구', 0.553802490234375),\n",
       " ('괴남자', 0.545050859451294),\n",
       " ('잠시', 0.541131854057312),\n",
       " ('취조실', 0.5269206762313843),\n",
       " ('마주', 0.49357107281684875)]"
      ]
     },
     "execution_count": 22,
     "metadata": {},
     "output_type": "execute_result"
    }
   ],
   "source": [
    "model.wv.most_similar(positive=['박두만','서태윤'],\n",
    "                      negative=['범인'])"
   ]
  },
  {
   "cell_type": "markdown",
   "metadata": {},
   "source": [
    "<br></br>\n",
    "## **5 Visulaization**\n",
    "gensim"
   ]
  },
  {
   "cell_type": "code",
   "execution_count": 23,
   "metadata": {},
   "outputs": [
    {
     "data": {
      "text/plain": [
       "['박두만', '서태윤', '조용구', '권귀옥', '구희봉', '백광호', '박해일', '용의자', '남자', '동네']"
      ]
     },
     "execution_count": 23,
     "metadata": {},
     "output_type": "execute_result"
    }
   ],
   "source": [
    "list(model.wv.vocab.keys())[:10]"
   ]
  },
  {
   "cell_type": "code",
   "execution_count": 24,
   "metadata": {},
   "outputs": [
    {
     "name": "stderr",
     "output_type": "stream",
     "text": [
      "/home/markbaum/Python/nltk/lib/python3.6/site-packages/ipykernel_launcher.py:3: DeprecationWarning: Call to deprecated `__getitem__` (Method will be removed in 4.0.0, use self.wv.__getitem__() instead).\n",
      "  This is separate from the ipykernel package so we can avoid doing imports until\n"
     ]
    },
    {
     "data": {
      "text/plain": [
       "(149, 30)"
      ]
     },
     "execution_count": 24,
     "metadata": {},
     "output_type": "execute_result"
    }
   ],
   "source": [
    "# model.wv.vocab : { word: object of numeric vector }\n",
    "vocab  = list(model.wv.vocab)\n",
    "X      = model[vocab]\n",
    "X.shape"
   ]
  },
  {
   "cell_type": "code",
   "execution_count": 25,
   "metadata": {},
   "outputs": [
    {
     "name": "stdout",
     "output_type": "stream",
     "text": [
      "CPU times: user 1.85 s, sys: 422 ms, total: 2.27 s\n",
      "Wall time: 2.02 s\n"
     ]
    }
   ],
   "source": [
    "%%time\n",
    "from sklearn.manifold import TSNE\n",
    "tsne   = TSNE(n_components= 2)\n",
    "X_tsne = tsne.fit_transform(X)"
   ]
  },
  {
   "cell_type": "code",
   "execution_count": 26,
   "metadata": {},
   "outputs": [
    {
     "data": {
      "text/html": [
       "<div>\n",
       "<style scoped>\n",
       "    .dataframe tbody tr th:only-of-type {\n",
       "        vertical-align: middle;\n",
       "    }\n",
       "\n",
       "    .dataframe tbody tr th {\n",
       "        vertical-align: top;\n",
       "    }\n",
       "\n",
       "    .dataframe thead th {\n",
       "        text-align: right;\n",
       "    }\n",
       "</style>\n",
       "<table border=\"1\" class=\"dataframe\">\n",
       "  <thead>\n",
       "    <tr style=\"text-align: right;\">\n",
       "      <th></th>\n",
       "      <th>x</th>\n",
       "      <th>y</th>\n",
       "    </tr>\n",
       "  </thead>\n",
       "  <tbody>\n",
       "    <tr>\n",
       "      <th>박두만</th>\n",
       "      <td>-0.189809</td>\n",
       "      <td>-1.382462</td>\n",
       "    </tr>\n",
       "    <tr>\n",
       "      <th>서태윤</th>\n",
       "      <td>0.415255</td>\n",
       "      <td>-1.365758</td>\n",
       "    </tr>\n",
       "    <tr>\n",
       "      <th>조용구</th>\n",
       "      <td>-0.831836</td>\n",
       "      <td>-1.192749</td>\n",
       "    </tr>\n",
       "    <tr>\n",
       "      <th>권귀옥</th>\n",
       "      <td>0.199232</td>\n",
       "      <td>-0.860521</td>\n",
       "    </tr>\n",
       "    <tr>\n",
       "      <th>구희봉</th>\n",
       "      <td>-1.968911</td>\n",
       "      <td>-3.304983</td>\n",
       "    </tr>\n",
       "  </tbody>\n",
       "</table>\n",
       "</div>"
      ],
      "text/plain": [
       "            x         y\n",
       "박두만 -0.189809 -1.382462\n",
       "서태윤  0.415255 -1.365758\n",
       "조용구 -0.831836 -1.192749\n",
       "권귀옥  0.199232 -0.860521\n",
       "구희봉 -1.968911 -3.304983"
      ]
     },
     "execution_count": 26,
     "metadata": {},
     "output_type": "execute_result"
    }
   ],
   "source": [
    "import pandas as pd\n",
    "df = pd.DataFrame(X_tsne, \n",
    "                  index = vocab, \n",
    "                  columns=['x', 'y'])\n",
    "df.head()"
   ]
  },
  {
   "cell_type": "code",
   "execution_count": 27,
   "metadata": {},
   "outputs": [
    {
     "data": {
      "image/png": "[encoded data removed]",
      "text/plain": [
       "<Figure size 864x864 with 1 Axes>"
      ]
     },
     "metadata": {},
     "output_type": "display_data"
    }
   ],
   "source": [
    "%matplotlib inline\n",
    "from matplotlib import rc\n",
    "rc('font', family=['NanumGothic','Malgun Gothic'])\n",
    "\n",
    "import matplotlib.pyplot as plt\n",
    "fig = plt.figure(figsize=(12,12))\n",
    "ax  = fig.add_subplot(1, 1, 1)\n",
    "ax.scatter(df['x'], df['y'])\n",
    "for word, pos in df.iterrows():\n",
    "    ax.annotate(word, pos, fontsize=15)\n",
    "plt.grid(True)"
   ]
  }
 ],
 "metadata": {
  "kernelspec": {
   "display_name": "Python 3",
   "language": "python",
   "name": "python3"
  },
  "language_info": {
   "codemirror_mode": {
    "name": "ipython",
    "version": 3
   },
   "file_extension": ".py",
   "mimetype": "text/x-python",
   "name": "python",
   "nbconvert_exporter": "python",
   "pygments_lexer": "ipython3",
   "version": "3.6.3"
  }
 },
 "nbformat": 4,
 "nbformat_minor": 2
}
